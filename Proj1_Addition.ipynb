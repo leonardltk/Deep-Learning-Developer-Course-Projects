{
 "cells": [
  {
   "cell_type": "markdown",
   "metadata": {},
   "source": [
    "# Addition"
   ]
  },
  {
   "cell_type": "code",
   "execution_count": 1,
   "metadata": {},
   "outputs": [
    {
     "name": "stderr",
     "output_type": "stream",
     "text": [
      "Using TensorFlow backend.\n"
     ]
    },
    {
     "name": "stdout",
     "output_type": "stream",
     "text": [
      "keras 2.0.6\n",
      "tensorflow 1.2.1\n"
     ]
    }
   ],
   "source": [
    "import sys\n",
    "## To get helper functions from another folder\n",
    "# sys.path.insert(0, '../') # if _helper_basics_ is in previous folder\n",
    "now_i_am_at = 'home' # home dso test\n",
    "if now_i_am_at=='home': sys.path.insert(0, 'E:/Leonard HDD/Dropbox/DSO/Tasks/')\n",
    "elif now_i_am_at=='dso': sys.path.insert(0, 'D:/Dropbox/DSO/Tasks')\n",
    "\n",
    "from _helper_basics_ import *\n",
    "\n",
    "%matplotlib inline\n",
    "plt.rcParams['savefig.dpi'] = 100\n",
    "\n",
    "%load_ext autoreload\n",
    "%autoreload 2\n",
    "\n",
    "print('keras', keras.__version__)\n",
    "print('tensorflow', tf.__version__)"
   ]
  },
  {
   "cell_type": "code",
   "execution_count": 12,
   "metadata": {
    "collapsed": true
   },
   "outputs": [],
   "source": [
    "from _helper_basics_ import *\n",
    "%reload_ext autoreload"
   ]
  },
  {
   "cell_type": "code",
   "execution_count": 30,
   "metadata": {
    "collapsed": true
   },
   "outputs": [],
   "source": [
    "Archi_dir = \"\"\n",
    "Weights_path = \"Logs/\"\n",
    "if not os.path.exists(Weights_path): os.mkdir(Weights_path)\n",
    "Ckpt_Mod_Weights_fold = Archi_dir+\"Checkpoint_Model_Weights/\"\n",
    "if not os.path.exists(Ckpt_Mod_Weights_fold): os.mkdir(Ckpt_Mod_Weights_fold)"
   ]
  },
  {
   "cell_type": "markdown",
   "metadata": {},
   "source": [
    "# Load Training Data"
   ]
  },
  {
   "cell_type": "code",
   "execution_count": 12,
   "metadata": {
    "collapsed": true
   },
   "outputs": [],
   "source": [
    "X_train_removed = pickle.load( open('X_train_removed', 'rb'))\n",
    "Y_train_removed = pickle.load( open('Y_train_removed', 'rb'))"
   ]
  },
  {
   "cell_type": "code",
   "execution_count": 14,
   "metadata": {},
   "outputs": [
    {
     "name": "stdout",
     "output_type": "stream",
     "text": [
      "X_train_removed.shape (64144, 2)\n",
      "Y_train_removed.shape (64144, 201)\n"
     ]
    }
   ],
   "source": [
    "print('X_train_removed.shape',X_train_removed.shape)\n",
    "print('Y_train_removed.shape',Y_train_removed.shape)"
   ]
  },
  {
   "cell_type": "markdown",
   "metadata": {},
   "source": [
    "# Setup & Training"
   ]
  },
  {
   "cell_type": "code",
   "execution_count": 150,
   "metadata": {
    "collapsed": true
   },
   "outputs": [],
   "source": [
    "from _helper_basics_ import *\n",
    "%reload_ext autoreload"
   ]
  },
  {
   "cell_type": "code",
   "execution_count": 16,
   "metadata": {},
   "outputs": [
    {
     "name": "stdout",
     "output_type": "stream",
     "text": [
      "_________________________________________________________________\n",
      "Layer (type)                 Output Shape              Param #   \n",
      "=================================================================\n",
      "Input (InputLayer)           (None, 2)                 0         \n",
      "_________________________________________________________________\n",
      "dense_3 (Dense)              (None, 100)               300       \n",
      "_________________________________________________________________\n",
      "dense_4 (Dense)              (None, 100)               10100     \n",
      "_________________________________________________________________\n",
      "Output (Dense)               (None, 201)               20301     \n",
      "=================================================================\n",
      "Total params: 30,701\n",
      "Trainable params: 30,701\n",
      "Non-trainable params: 0\n",
      "_________________________________________________________________\n"
     ]
    }
   ],
   "source": [
    "def build_model():\n",
    "    ######################### Build Architecture  ##########################\n",
    "    ## Input\n",
    "    Inp = Input( shape=(2,), name='Input' ) \n",
    "\n",
    "    x = Dense(100, activation='sigmoid')(Inp)\n",
    "    x = Dense(100, activation='sigmoid')(x)\n",
    "\n",
    "    ## Output\n",
    "    x = Dense(num_classes, activation='softmax', name='Output')(x)\n",
    "    train_model = Model(Inp, x)\n",
    "    return train_model\n",
    "train_model = build_model()\n",
    "########################### Printing information ###########################\n",
    "train_model.summary()\n",
    "# print_model_weights(train_model)"
   ]
  },
  {
   "cell_type": "code",
   "execution_count": 24,
   "metadata": {},
   "outputs": [
    {
     "name": "stdout",
     "output_type": "stream",
     "text": [
      "decay 0\n",
      "training_epochs 200\n",
      "batch_size 128\n"
     ]
    }
   ],
   "source": [
    "######################## Training Parameters ###############################\n",
    "learning_rate = 1.\n",
    "decay = 0;          \tprint('decay',decay)\n",
    "training_epochs = 200;\tprint('training_epochs',training_epochs)\n",
    "batch_size = 128;\t\tprint('batch_size',batch_size)\n",
    "######################## Optimizer/Error/Metrics ###############################\n",
    "sgd_mtm = SGD(lr=learning_rate, decay=decay, momentum=0.9, nesterov=True)\n",
    "adam_opt = Adam(lr=learning_rate, beta_1=0.9, beta_2=0.999, epsilon=1e-08, decay=decay)\n",
    "######################## Checkpoints ###############################\n",
    "reduce_lr = ReduceLROnPlateau(monitor='val_loss', factor=0.1, patience=10, min_lr=1e-6, verbose=1)"
   ]
  },
  {
   "cell_type": "code",
   "execution_count": 40,
   "metadata": {},
   "outputs": [
    {
     "name": "stdout",
     "output_type": "stream",
     "text": [
      "learning_rate 0.001\n",
      "Train on 64144 samples, validate on 25125 samples\n",
      "Epoch 1/200\n",
      "64144/64144 [==============================] - 23s - loss: 0.0530 - categorical_accuracy: 0.0079 - val_loss: 0.0524 - val_categorical_accuracy: 0.0098\n",
      "Epoch 2/200\n",
      "64144/64144 [==============================] - 21s - loss: 0.0473 - categorical_accuracy: 0.0200 - val_loss: 0.0437 - val_categorical_accuracy: 0.0252\n",
      "Epoch 3/200\n",
      "64144/64144 [==============================] - 21s - loss: 0.0414 - categorical_accuracy: 0.0418 - val_loss: 0.0396 - val_categorical_accuracy: 0.0624\n",
      "Epoch 4/200\n",
      "64144/64144 [==============================] - 22s - loss: 0.0377 - categorical_accuracy: 0.0697 - val_loss: 0.0362 - val_categorical_accuracy: 0.0738\n",
      "Epoch 5/200\n",
      "64144/64144 [==============================] - 23s - loss: 0.0348 - categorical_accuracy: 0.0907 - val_loss: 0.0337 - val_categorical_accuracy: 0.1222\n",
      "Epoch 6/200\n",
      "64144/64144 [==============================] - 22s - loss: 0.0325 - categorical_accuracy: 0.1178 - val_loss: 0.0315 - val_categorical_accuracy: 0.1058\n",
      "Epoch 7/200\n",
      "64144/64144 [==============================] - 22s - loss: 0.0306 - categorical_accuracy: 0.1451 - val_loss: 0.0297 - val_categorical_accuracy: 0.1856\n",
      "Epoch 8/200\n",
      "64144/64144 [==============================] - 21s - loss: 0.0289 - categorical_accuracy: 0.1688 - val_loss: 0.0282 - val_categorical_accuracy: 0.1832\n",
      "Epoch 9/200\n",
      "64144/64144 [==============================] - 22s - loss: 0.0274 - categorical_accuracy: 0.1955 - val_loss: 0.0268 - val_categorical_accuracy: 0.2115\n",
      "Epoch 10/200\n",
      "64144/64144 [==============================] - 22s - loss: 0.0261 - categorical_accuracy: 0.2263 - val_loss: 0.0255 - val_categorical_accuracy: 0.2271\n",
      "Epoch 11/200\n",
      "64144/64144 [==============================] - 22s - loss: 0.0250 - categorical_accuracy: 0.2503 - val_loss: 0.0245 - val_categorical_accuracy: 0.2606\n",
      "Epoch 12/200\n",
      "64144/64144 [==============================] - 21s - loss: 0.0240 - categorical_accuracy: 0.2712 - val_loss: 0.0235 - val_categorical_accuracy: 0.2619\n",
      "Epoch 13/200\n",
      "64144/64144 [==============================] - 22s - loss: 0.0231 - categorical_accuracy: 0.2945 - val_loss: 0.0227 - val_categorical_accuracy: 0.3335\n",
      "Epoch 14/200\n",
      "64144/64144 [==============================] - 22s - loss: 0.0222 - categorical_accuracy: 0.3234 - val_loss: 0.0219 - val_categorical_accuracy: 0.3221\n",
      "Epoch 15/200\n",
      "64144/64144 [==============================] - 22s - loss: 0.0215 - categorical_accuracy: 0.3487 - val_loss: 0.0211 - val_categorical_accuracy: 0.3250\n",
      "Epoch 16/200\n",
      "64144/64144 [==============================] - 22s - loss: 0.0208 - categorical_accuracy: 0.3639 - val_loss: 0.0204 - val_categorical_accuracy: 0.3713\n",
      "Epoch 17/200\n",
      "64144/64144 [==============================] - 21s - loss: 0.0201 - categorical_accuracy: 0.3921 - val_loss: 0.0198 - val_categorical_accuracy: 0.3816\n",
      "Epoch 18/200\n",
      "64144/64144 [==============================] - 21s - loss: 0.0195 - categorical_accuracy: 0.4078 - val_loss: 0.0193 - val_categorical_accuracy: 0.4211\n",
      "Epoch 19/200\n",
      "64144/64144 [==============================] - 21s - loss: 0.0190 - categorical_accuracy: 0.4325 - val_loss: 0.0187 - val_categorical_accuracy: 0.4202\n",
      "Epoch 20/200\n",
      "64144/64144 [==============================] - 21s - loss: 0.0185 - categorical_accuracy: 0.4429 - val_loss: 0.0182 - val_categorical_accuracy: 0.4961\n",
      "Epoch 21/200\n",
      "64144/64144 [==============================] - 22s - loss: 0.0180 - categorical_accuracy: 0.4636 - val_loss: 0.0178 - val_categorical_accuracy: 0.4941\n",
      "Epoch 22/200\n",
      "64144/64144 [==============================] - 26s - loss: 0.0176 - categorical_accuracy: 0.4847 - val_loss: 0.0173 - val_categorical_accuracy: 0.4898\n",
      "Epoch 23/200\n",
      "64144/64144 [==============================] - 23s - loss: 0.0171 - categorical_accuracy: 0.5009 - val_loss: 0.0169 - val_categorical_accuracy: 0.5384\n",
      "Epoch 24/200\n",
      "64144/64144 [==============================] - 20s - loss: 0.0168 - categorical_accuracy: 0.5195 - val_loss: 0.0166 - val_categorical_accuracy: 0.4711\n",
      "Epoch 25/200\n",
      "64144/64144 [==============================] - 20s - loss: 0.0164 - categorical_accuracy: 0.5332 - val_loss: 0.0162 - val_categorical_accuracy: 0.5591\n",
      "Epoch 26/200\n",
      "64144/64144 [==============================] - 20s - loss: 0.0161 - categorical_accuracy: 0.5482 - val_loss: 0.0159 - val_categorical_accuracy: 0.5260\n",
      "Epoch 27/200\n",
      "64144/64144 [==============================] - 20s - loss: 0.0157 - categorical_accuracy: 0.5653 - val_loss: 0.0155 - val_categorical_accuracy: 0.5635\n",
      "Epoch 28/200\n",
      "64144/64144 [==============================] - 19s - loss: 0.0154 - categorical_accuracy: 0.5869 - val_loss: 0.0153 - val_categorical_accuracy: 0.5733\n",
      "Epoch 29/200\n",
      "64144/64144 [==============================] - 19s - loss: 0.0151 - categorical_accuracy: 0.6005 - val_loss: 0.0150 - val_categorical_accuracy: 0.5700\n",
      "Epoch 30/200\n",
      "64144/64144 [==============================] - 19s - loss: 0.0148 - categorical_accuracy: 0.6029 - val_loss: 0.0147 - val_categorical_accuracy: 0.5910\n",
      "Epoch 31/200\n",
      "64144/64144 [==============================] - 19s - loss: 0.0146 - categorical_accuracy: 0.6279 - val_loss: 0.0144 - val_categorical_accuracy: 0.6157\n",
      "Epoch 32/200\n",
      "64144/64144 [==============================] - 21s - loss: 0.0143 - categorical_accuracy: 0.6367 - val_loss: 0.0142 - val_categorical_accuracy: 0.6628\n",
      "Epoch 33/200\n",
      "64144/64144 [==============================] - 20s - loss: 0.0141 - categorical_accuracy: 0.6502 - val_loss: 0.0139 - val_categorical_accuracy: 0.7040\n",
      "Epoch 34/200\n",
      "64144/64144 [==============================] - 19s - loss: 0.0138 - categorical_accuracy: 0.6637 - val_loss: 0.0138 - val_categorical_accuracy: 0.6409\n",
      "Epoch 35/200\n",
      "64144/64144 [==============================] - 20s - loss: 0.0136 - categorical_accuracy: 0.6701 - val_loss: 0.0135 - val_categorical_accuracy: 0.7005\n",
      "Epoch 36/200\n",
      "64144/64144 [==============================] - 19s - loss: 0.0134 - categorical_accuracy: 0.6877 - val_loss: 0.0133 - val_categorical_accuracy: 0.7063\n",
      "Epoch 37/200\n",
      "64144/64144 [==============================] - 19s - loss: 0.0132 - categorical_accuracy: 0.6930 - val_loss: 0.0131 - val_categorical_accuracy: 0.7327\n",
      "Epoch 38/200\n",
      "64144/64144 [==============================] - 20s - loss: 0.0130 - categorical_accuracy: 0.7095 - val_loss: 0.0129 - val_categorical_accuracy: 0.7609\n",
      "Epoch 39/200\n",
      "64144/64144 [==============================] - 19s - loss: 0.0128 - categorical_accuracy: 0.7171 - val_loss: 0.0128 - val_categorical_accuracy: 0.6977\n",
      "Epoch 40/200\n",
      "64144/64144 [==============================] - 19s - loss: 0.0126 - categorical_accuracy: 0.7201 - val_loss: 0.0125 - val_categorical_accuracy: 0.7523\n",
      "Epoch 41/200\n",
      "64144/64144 [==============================] - 19s - loss: 0.0125 - categorical_accuracy: 0.7331 - val_loss: 0.0124 - val_categorical_accuracy: 0.7292\n",
      "Epoch 42/200\n",
      "64144/64144 [==============================] - 19s - loss: 0.0123 - categorical_accuracy: 0.7511 - val_loss: 0.0122 - val_categorical_accuracy: 0.7884\n",
      "Epoch 43/200\n",
      "64144/64144 [==============================] - 19s - loss: 0.0121 - categorical_accuracy: 0.7585 - val_loss: 0.0120 - val_categorical_accuracy: 0.7819\n",
      "Epoch 44/200\n",
      "64144/64144 [==============================] - 20s - loss: 0.0119 - categorical_accuracy: 0.7717 - val_loss: 0.0119 - val_categorical_accuracy: 0.7790\n",
      "Epoch 45/200\n",
      "64144/64144 [==============================] - 20s - loss: 0.0118 - categorical_accuracy: 0.7767 - val_loss: 0.0117 - val_categorical_accuracy: 0.7872\n",
      "Epoch 46/200\n",
      "64144/64144 [==============================] - 19s - loss: 0.0116 - categorical_accuracy: 0.7831 - val_loss: 0.0116 - val_categorical_accuracy: 0.7762\n",
      "Epoch 47/200\n",
      "64144/64144 [==============================] - 19s - loss: 0.0115 - categorical_accuracy: 0.7980 - val_loss: 0.0114 - val_categorical_accuracy: 0.8158\n",
      "Epoch 48/200\n",
      "64144/64144 [==============================] - 19s - loss: 0.0113 - categorical_accuracy: 0.8001 - val_loss: 0.0113 - val_categorical_accuracy: 0.7537\n",
      "Epoch 49/200\n",
      "64144/64144 [==============================] - 19s - loss: 0.0112 - categorical_accuracy: 0.7994 - val_loss: 0.0111 - val_categorical_accuracy: 0.7730\n",
      "Epoch 50/200\n",
      "64144/64144 [==============================] - 19s - loss: 0.0111 - categorical_accuracy: 0.8179 - val_loss: 0.0110 - val_categorical_accuracy: 0.8362\n",
      "Epoch 51/200\n",
      "64144/64144 [==============================] - 20s - loss: 0.0109 - categorical_accuracy: 0.8238 - val_loss: 0.0109 - val_categorical_accuracy: 0.8224\n",
      "Epoch 52/200\n",
      "64144/64144 [==============================] - 19s - loss: 0.0108 - categorical_accuracy: 0.8323 - val_loss: 0.0107 - val_categorical_accuracy: 0.8231\n",
      "Epoch 53/200\n",
      "64144/64144 [==============================] - 19s - loss: 0.0107 - categorical_accuracy: 0.8372 - val_loss: 0.0106 - val_categorical_accuracy: 0.8594\n",
      "Epoch 54/200\n",
      "64144/64144 [==============================] - 19s - loss: 0.0106 - categorical_accuracy: 0.8419 - val_loss: 0.0105 - val_categorical_accuracy: 0.8574\n",
      "Epoch 55/200\n",
      "64144/64144 [==============================] - 19s - loss: 0.0104 - categorical_accuracy: 0.8531 - val_loss: 0.0104 - val_categorical_accuracy: 0.8700\n",
      "Epoch 56/200\n",
      "64144/64144 [==============================] - 19s - loss: 0.0103 - categorical_accuracy: 0.8488 - val_loss: 0.0102 - val_categorical_accuracy: 0.8613\n",
      "Epoch 57/200\n",
      "64144/64144 [==============================] - 20s - loss: 0.0102 - categorical_accuracy: 0.8559 - val_loss: 0.0101 - val_categorical_accuracy: 0.8433\n",
      "Epoch 58/200\n",
      "64144/64144 [==============================] - 20s - loss: 0.0101 - categorical_accuracy: 0.8608 - val_loss: 0.0100 - val_categorical_accuracy: 0.8643\n",
      "Epoch 59/200\n",
      "64144/64144 [==============================] - 19s - loss: 0.0100 - categorical_accuracy: 0.8694 - val_loss: 0.0099 - val_categorical_accuracy: 0.8771\n",
      "Epoch 60/200\n",
      "64144/64144 [==============================] - 19s - loss: 0.0099 - categorical_accuracy: 0.8731 - val_loss: 0.0098 - val_categorical_accuracy: 0.85452s - loss: 0.0099 - categorical_accura - ETA - ETA: 0s - loss: 0.0099 - categorical_accura - ETA: 0s - loss: 0.0099 - categorical_accura - ETA: 0s - loss: 0.0099 - categorical_accuracy\n",
      "Epoch 61/200\n",
      "64144/64144 [==============================] - 19s - loss: 0.0098 - categorical_accuracy: 0.8813 - val_loss: 0.0097 - val_categorical_accuracy: 0.8839\n",
      "Epoch 62/200\n",
      "64144/64144 [==============================] - 19s - loss: 0.0096 - categorical_accuracy: 0.8809 - val_loss: 0.0096 - val_categorical_accuracy: 0.8777\n",
      "Epoch 63/200\n",
      "64144/64144 [==============================] - 20s - loss: 0.0096 - categorical_accuracy: 0.8886 - val_loss: 0.0095 - val_categorical_accuracy: 0.8978\n",
      "Epoch 64/200\n",
      "64144/64144 [==============================] - 19s - loss: 0.0094 - categorical_accuracy: 0.8945 - val_loss: 0.0094 - val_categorical_accuracy: 0.8780 0.0\n",
      "Epoch 65/200\n",
      "64144/64144 [==============================] - 19s - loss: 0.0093 - categorical_accuracy: 0.8945 - val_loss: 0.0093 - val_categorical_accuracy: 0.8751\n",
      "Epoch 66/200\n",
      "64144/64144 [==============================] - 19s - loss: 0.0092 - categorical_accuracy: 0.8992 - val_loss: 0.0092 - val_categorical_accuracy: 0.9341 0.0\n",
      "Epoch 67/200\n",
      "64144/64144 [==============================] - 19s - loss: 0.0092 - categorical_accuracy: 0.9024 - val_loss: 0.0091 - val_categorical_accuracy: 0.8857\n",
      "Epoch 68/200\n",
      "64144/64144 [==============================] - 19s - loss: 0.0091 - categorical_accuracy: 0.9050 - val_loss: 0.0090 - val_categorical_accuracy: 0.9271\n",
      "Epoch 69/200\n",
      "64144/64144 [==============================] - 20s - loss: 0.0090 - categorical_accuracy: 0.9070 - val_loss: 0.0089 - val_categorical_accuracy: 0.8786\n",
      "Epoch 70/200\n",
      "64144/64144 [==============================] - 19s - loss: 0.0089 - categorical_accuracy: 0.9102 - val_loss: 0.0088 - val_categorical_accuracy: 0.9366\n",
      "Epoch 71/200\n",
      "64144/64144 [==============================] - 19s - loss: 0.0088 - categorical_accuracy: 0.9147 - val_loss: 0.0087 - val_categorical_accuracy: 0.9462\n",
      "Epoch 72/200\n",
      "64144/64144 [==============================] - 19s - loss: 0.0087 - categorical_accuracy: 0.9195 - val_loss: 0.0086 - val_categorical_accuracy: 0.9398\n",
      "Epoch 73/200\n",
      "64144/64144 [==============================] - 19s - loss: 0.0086 - categorical_accuracy: 0.9224 - val_loss: 0.0085 - val_categorical_accuracy: 0.9490.0086 - categorical_accuracy: 0. - ETA: 2s - loss: - ETA: 1s - loss: 0.008\n",
      "Epoch 74/200\n",
      "64144/64144 [==============================] - 19s - loss: 0.0085 - categorical_accuracy: 0.9239 - val_loss: 0.0085 - val_categorical_accuracy: 0.9402\n",
      "Epoch 75/200\n",
      "64144/64144 [==============================] - 20s - loss: 0.0085 - categorical_accuracy: 0.9280 - val_loss: 0.0084 - val_categorical_accuracy: 0.9197\n",
      "Epoch 76/200\n",
      "64144/64144 [==============================] - 19s - loss: 0.0084 - categorical_accuracy: 0.9248 - val_loss: 0.0083 - val_categorical_accuracy: 0.9286\n",
      "Epoch 77/200\n",
      "64144/64144 [==============================] - 19s - loss: 0.0083 - categorical_accuracy: 0.9307 - val_loss: 0.0082 - val_categorical_accuracy: 0.9307TA: 0s - loss: 0.0083 - \n",
      "Epoch 78/200\n",
      "64144/64144 [==============================] - 19s - loss: 0.0082 - categorical_accuracy: 0.9318 - val_loss: 0.0081 - val_categorical_accuracy: 0.9420\n",
      "Epoch 79/200\n",
      "64144/64144 [==============================] - 19s - loss: 0.0081 - categorical_accuracy: 0.9305 - val_loss: 0.0081 - val_categorical_accuracy: 0.9177te - ETA: 7s - loss: 0.0082 - categorical_accura - E - ETA: 3s - ETA: 1s - loss: 0.0081 - categorical_ - ETA: 1s - loss: 0.008\n",
      "Epoch 80/200\n",
      "64144/64144 [==============================] - 19s - loss: 0.0081 - categorical_accuracy: 0.9421 - val_loss: 0.0079 - val_categorical_accuracy: 0.9620\n",
      "Epoch 81/200\n",
      "64144/64144 [==============================] - 19s - loss: 0.0080 - categorical_accuracy: 0.9358 - val_loss: 0.0079 - val_categorical_accuracy: 0.9290\n",
      "Epoch 82/200\n",
      "64144/64144 [==============================] - 19s - loss: 0.0079 - categorical_accuracy: 0.9371 - val_loss: 0.0079 - val_categorical_accuracy: 0.9401\n",
      "Epoch 83/200\n",
      "64144/64144 [==============================] - 19s - loss: 0.0078 - categorical_accuracy: 0.9365 - val_loss: 0.0078 - val_categorical_accuracy: 0.9334\n",
      "Epoch 84/200\n",
      "64144/64144 [==============================] - 19s - loss: 0.0078 - categorical_accuracy: 0.9377 - val_loss: 0.0077 - val_categorical_accuracy: 0.9662\n",
      "Epoch 85/200\n",
      "64144/64144 [==============================] - 19s - loss: 0.0077 - categorical_accuracy: 0.9463 - val_loss: 0.0076 - val_categorical_accuracy: 0.9690\n",
      "Epoch 86/200\n",
      "64144/64144 [==============================] - 19s - loss: 0.0076 - categorical_accuracy: 0.9465 - val_loss: 0.0076 - val_categorical_accuracy: 0.9136\n",
      "Epoch 87/200\n",
      "64144/64144 [==============================] - 20s - loss: 0.0075 - categorical_accuracy: 0.9474 - val_loss: 0.0075 - val_categorical_accuracy: 0.9424gorical_accuracy - ETA\n",
      "Epoch 88/200\n",
      "64144/64144 [==============================] - 20s - loss: 0.0075 - categorical_accuracy: 0.9507 - val_loss: 0.0074 - val_categorical_accuracy: 0.9759\n",
      "Epoch 89/200\n",
      "64144/64144 [==============================] - 19s - loss: 0.0074 - categorical_accuracy: 0.9504 - val_loss: 0.0074 - val_categorical_accuracy: 0.9385\n",
      "Epoch 90/200\n",
      "64144/64144 [==============================] - 19s - loss: 0.0073 - categorical_accuracy: 0.9538 - val_loss: 0.0073 - val_categorical_accuracy: 0.9366: 0s - loss: 0.0073 - categorical_ac\n",
      "Epoch 91/200\n",
      "64144/64144 [==============================] - 19s - loss: 0.0073 - categorical_accuracy: 0.9547 - val_loss: 0.0072 - val_categorical_accuracy: 0.9562\n",
      "Epoch 92/200\n",
      "64144/64144 [==============================] - 20s - loss: 0.0072 - categorical_accuracy: 0.9518 - val_loss: 0.0072 - val_categorical_accuracy: 0.9464\n",
      "Epoch 93/200\n",
      "64144/64144 [==============================] - 19s - loss: 0.0071 - categorical_accuracy: 0.9512 - val_loss: 0.0071 - val_categorical_accuracy: 0.9575\n",
      "Epoch 94/200\n",
      "64144/64144 [==============================] - 19s - loss: 0.0071 - categorical_accuracy: 0.9586 - val_loss: 0.0070 - val_categorical_accuracy: 0.9534\n",
      "Epoch 95/200\n",
      "64144/64144 [==============================] - 19s - loss: 0.0070 - categorical_accuracy: 0.9582 - val_loss: 0.0070 - val_categorical_accuracy: 0.9428\n",
      "Epoch 96/200\n"
     ]
    },
    {
     "name": "stdout",
     "output_type": "stream",
     "text": [
      "64144/64144 [==============================] - 19s - loss: 0.0070 - categorical_accuracy: 0.9624 - val_loss: 0.0069 - val_categorical_accuracy: 0.9583\n",
      "Epoch 97/200\n",
      "64144/64144 [==============================] - 19s - loss: 0.0069 - categorical_accuracy: 0.9589 - val_loss: 0.0068 - val_categorical_accuracy: 0.9696\n",
      "Epoch 98/200\n",
      "64144/64144 [==============================] - 19s - loss: 0.0068 - categorical_accuracy: 0.9602 - val_loss: 0.0068 - val_categorical_accuracy: 0.9778\n",
      "Epoch 99/200\n",
      "64144/64144 [==============================] - 19s - loss: 0.0068 - categorical_accuracy: 0.9619 - val_loss: 0.0067 - val_categorical_accuracy: 0.9434 categorical_ac - ETA: 1s - - ETA: 0s - loss: 0.0068 - categorical_accuracy\n",
      "Epoch 100/200\n",
      "64144/64144 [==============================] - 20s - loss: 0.0067 - categorical_accuracy: 0.9611 - val_loss: 0.0067 - val_categorical_accuracy: 0.9426\n",
      "Epoch 101/200\n",
      "64144/64144 [==============================] - 19s - loss: 0.0067 - categorical_accuracy: 0.9626 - val_loss: 0.0066 - val_categorical_accuracy: 0.9701\n",
      "Epoch 102/200\n",
      "64144/64144 [==============================] - 19s - loss: 0.0066 - categorical_accuracy: 0.9665 - val_loss: 0.0065 - val_categorical_accuracy: 0.9819: 0s - loss: 0.0066 - categorical_ac\n",
      "Epoch 103/200\n",
      "64144/64144 [==============================] - 19s - loss: 0.0065 - categorical_accuracy: 0.9660 - val_loss: 0.0065 - val_categorical_accuracy: 0.9369\n",
      "Epoch 104/200\n",
      "64144/64144 [==============================] - 19s - loss: 0.0065 - categorical_accuracy: 0.9651 - val_loss: 0.0064 - val_categorical_accuracy: 0.9688\n",
      "Epoch 105/200\n",
      "64144/64144 [==============================] - 19s - loss: 0.0064 - categorical_accuracy: 0.9668 - val_loss: 0.0064 - val_categorical_accuracy: 0.9709\n",
      "Epoch 106/200\n",
      "64144/64144 [==============================] - 20s - loss: 0.0064 - categorical_accuracy: 0.9678 - val_loss: 0.0063 - val_categorical_accuracy: 0.9739\n",
      "Epoch 107/200\n",
      "64144/64144 [==============================] - 19s - loss: 0.0063 - categorical_accuracy: 0.9684 - val_loss: 0.0063 - val_categorical_accuracy: 0.9480\n",
      "Epoch 108/200\n",
      "64144/64144 [==============================] - 19s - loss: 0.0063 - categorical_accuracy: 0.9686 - val_loss: 0.0062 - val_categorical_accuracy: 0.9692s - loss: 0.0063 - catego - ETA: 3s - loss: 0 - ETA: 2s - loss: 0.0063 - categorical_accuracy:  - ETA: 2s - - ETA: 0s - loss: 0.0063 - categorical_accu - ETA: 0s - loss: 0.0063 - categorica\n",
      "Epoch 109/200\n",
      "64144/64144 [==============================] - 19s - loss: 0.0062 - categorical_accuracy: 0.9733 - val_loss: 0.0061 - val_categorical_accuracy: 0.9813\n",
      "Epoch 110/200\n",
      "64144/64144 [==============================] - 19s - loss: 0.0061 - categorical_accuracy: 0.9697 - val_loss: 0.0061 - val_categorical_accuracy: 0.9692\n",
      "Epoch 111/200\n",
      "64144/64144 [==============================] - 19s - loss: 0.0061 - categorical_accuracy: 0.9722 - val_loss: 0.0060 - val_categorical_accuracy: 0.9842\n",
      "Epoch 112/200\n",
      "64144/64144 [==============================] - 20s - loss: 0.0060 - categorical_accuracy: 0.9700 - val_loss: 0.0060 - val_categorical_accuracy: 0.9745\n",
      "Epoch 113/200\n",
      "64144/64144 [==============================] - 19s - loss: 0.0060 - categorical_accuracy: 0.9703 - val_loss: 0.0060 - val_categorical_accuracy: 0.9547\n",
      "Epoch 114/200\n",
      "64144/64144 [==============================] - 19s - loss: 0.0059 - categorical_accuracy: 0.9717 - val_loss: 0.0059 - val_categorical_accuracy: 0.9715\n",
      "Epoch 115/200\n",
      "64144/64144 [==============================] - 19s - loss: 0.0059 - categorical_accuracy: 0.9749 - val_loss: 0.0058 - val_categorical_accuracy: 0.9650\n",
      "Epoch 116/200\n",
      "64144/64144 [==============================] - 19s - loss: 0.0058 - categorical_accuracy: 0.9716 - val_loss: 0.0058 - val_categorical_accuracy: 0.9848\n",
      "Epoch 117/200\n",
      "64144/64144 [==============================] - 19s - loss: 0.0058 - categorical_accuracy: 0.9772 - val_loss: 0.0057 - val_categorical_accuracy: 0.9775\n",
      "Epoch 118/200\n",
      "64144/64144 [==============================] - 20s - loss: 0.0057 - categorical_accuracy: 0.9736 - val_loss: 0.0057 - val_categorical_accuracy: 0.9811\n",
      "Epoch 119/200\n",
      "64144/64144 [==============================] - 19s - loss: 0.0057 - categorical_accuracy: 0.9748 - val_loss: 0.0057 - val_categorical_accuracy: 0.9797\n",
      "Epoch 120/200\n",
      "64144/64144 [==============================] - 19s - loss: 0.0056 - categorical_accuracy: 0.9783 - val_loss: 0.0056 - val_categorical_accuracy: 0.9709\n",
      "Epoch 121/200\n",
      "64144/64144 [==============================] - 19s - loss: 0.0056 - categorical_accuracy: 0.9768 - val_loss: 0.0055 - val_categorical_accuracy: 0.9754TA: 0s - loss: 0.0056 - categori - ETA: 0s - loss: 0.0056 - categorical_accuracy\n",
      "Epoch 122/200\n",
      "64144/64144 [==============================] - 19s - loss: 0.0055 - categorical_accuracy: 0.9753 - val_loss: 0.0055 - val_categorical_accuracy: 0.9898\n",
      "Epoch 123/200\n",
      "64144/64144 [==============================] - 19s - loss: 0.0055 - categorical_accuracy: 0.9759 - val_loss: 0.0055 - val_categorical_accuracy: 0.964197 - ETA: 1s - loss: 0.0\n",
      "Epoch 124/200\n",
      "64144/64144 [==============================] - 19s - loss: 0.0055 - categorical_accuracy: 0.9753 - val_loss: 0.0054 - val_categorical_accuracy: 0.9756\n",
      "Epoch 125/200\n",
      "64144/64144 [==============================] - 19s - loss: 0.0054 - categorical_accuracy: 0.9801 - val_loss: 0.0054 - val_categorical_accuracy: 0.9756\n",
      "Epoch 126/200\n",
      "64144/64144 [==============================] - 19s - loss: 0.0054 - categorical_accuracy: 0.9783 - val_loss: 0.0053 - val_categorical_accuracy: 0.9797TA: 1 - ETA:  - ETA: 0s - loss: 0.0054 - categorical_accuracy: 0.97 - ETA: 0s - loss: 0.0054 - categorical_accuracy\n",
      "Epoch 127/200\n",
      "64144/64144 [==============================] - 19s - loss: 0.0053 - categorical_accuracy: 0.9814 - val_loss: 0.0053 - val_categorical_accuracy: 0.980114s - loss: 0.0053 - categorical_accuracy: - ETA: 14s - loss: 0.0053 - cat\n",
      "Epoch 128/200\n",
      "64144/64144 [==============================] - 19s - loss: 0.0053 - categorical_accuracy: 0.9776 - val_loss: 0.0052 - val_categorical_accuracy: 0.9853 - ETA: 1s - los\n",
      "Epoch 129/200\n",
      "64144/64144 [==============================] - 19s - loss: 0.0052 - categorical_accuracy: 0.9804 - val_loss: 0.0052 - val_categorical_accuracy: 0.9887.0052 - categorical_ac\n",
      "Epoch 130/200\n",
      "64144/64144 [==============================] - 20s - loss: 0.0052 - categorical_accuracy: 0.9837 - val_loss: 0.0051 - val_categorical_accuracy: 0.9796\n",
      "Epoch 131/200\n",
      "64144/64144 [==============================] - 30s - loss: 0.0051 - categorical_accuracy: 0.9831 - val_loss: 0.0051 - val_categorical_accuracy: 0.9744\n",
      "Epoch 132/200\n",
      "64144/64144 [==============================] - 20s - loss: 0.0051 - categorical_accuracy: 0.9814 - val_loss: 0.0051 - val_categorical_accuracy: 0.9629\n",
      "Epoch 133/200\n",
      "64144/64144 [==============================] - 19s - loss: 0.0051 - categorical_accuracy: 0.9799 - val_loss: 0.0050 - val_categorical_accuracy: 0.9792\n",
      "Epoch 134/200\n",
      "64144/64144 [==============================] - 19s - loss: 0.0050 - categorical_accuracy: 0.9796 - val_loss: 0.0050 - val_categorical_accuracy: 0.9886\n",
      "Epoch 135/200\n",
      "64144/64144 [==============================] - 19s - loss: 0.0050 - categorical_accuracy: 0.9829 - val_loss: 0.0049 - val_categorical_accuracy: 0.9849\n",
      "Epoch 136/200\n",
      "64144/64144 [==============================] - 20s - loss: 0.0049 - categorical_accuracy: 0.9860 - val_loss: 0.0049 - val_categorical_accuracy: 0.9836\n",
      "Epoch 137/200\n",
      "64144/64144 [==============================] - 19s - loss: 0.0049 - categorical_accuracy: 0.9849 - val_loss: 0.0049 - val_categorical_accuracy: 0.9889\n",
      "Epoch 138/200\n",
      "64144/64144 [==============================] - 19s - loss: 0.0049 - categorical_accuracy: 0.9837 - val_loss: 0.0048 - val_categorical_accuracy: 1.0000\n",
      "Epoch 139/200\n",
      "64144/64144 [==============================] - 19s - loss: 0.0048 - categorical_accuracy: 0.9839 - val_loss: 0.0048 - val_categorical_accuracy: 0.9949\n",
      "Epoch 140/200\n",
      "64144/64144 [==============================] - 19s - loss: 0.0048 - categorical_accuracy: 0.9842 - val_loss: 0.0047 - val_categorical_accuracy: 0.9871\n",
      "Epoch 141/200\n",
      "64144/64144 [==============================] - 19s - loss: 0.0047 - categorical_accuracy: 0.9855 - val_loss: 0.0047 - val_categorical_accuracy: 1.0000\n",
      "Epoch 142/200\n",
      "64144/64144 [==============================] - 20s - loss: 0.0047 - categorical_accuracy: 0.9839 - val_loss: 0.0047 - val_categorical_accuracy: 0.9725\n",
      "Epoch 143/200\n",
      "64144/64144 [==============================] - 19s - loss: 0.0047 - categorical_accuracy: 0.9850 - val_loss: 0.0046 - val_categorical_accuracy: 0.99500s - loss: 0.0047 - categori\n",
      "Epoch 144/200\n",
      "64144/64144 [==============================] - 19s - loss: 0.0046 - categorical_accuracy: 0.9861 - val_loss: 0.0046 - val_categorical_accuracy: 0.9787\n",
      "Epoch 145/200\n",
      "64144/64144 [==============================] - 19s - loss: 0.0046 - categorical_accuracy: 0.9856 - val_loss: 0.0045 - val_categorical_accuracy: 0.9895\n",
      "Epoch 146/200\n",
      "64144/64144 [==============================] - 20s - loss: 0.0046 - categorical_accuracy: 0.9859 - val_loss: 0.0045 - val_categorical_accuracy: 0.9684\n",
      "Epoch 147/200\n",
      "64144/64144 [==============================] - 19s - loss: 0.0045 - categorical_accuracy: 0.9857 - val_loss: 0.0045 - val_categorical_accuracy: 0.9899\n",
      "Epoch 148/200\n",
      "64144/64144 [==============================] - 20s - loss: 0.0045 - categorical_accuracy: 0.9856 - val_loss: 0.0044 - val_categorical_accuracy: 0.9783\n",
      "Epoch 149/200\n",
      "64144/64144 [==============================] - 19s - loss: 0.0045 - categorical_accuracy: 0.9869 - val_loss: 0.0044 - val_categorical_accuracy: 0.98962s - loss: 0.0045 - categorical_ac - ETA: 1s - loss: 0.0 - ETA: 0s - loss: 0.0045 - categorica\n",
      "Epoch 150/200\n",
      "64144/64144 [==============================] - 20s - loss: 0.0044 - categorical_accuracy: 0.9885 - val_loss: 0.0044 - val_categorical_accuracy: 0.9948\n",
      "Epoch 151/200\n",
      "64144/64144 [==============================] - 19s - loss: 0.0044 - categorical_accuracy: 0.9892 - val_loss: 0.0043 - val_categorical_accuracy: 0.9827\n",
      "Epoch 152/200\n",
      "64144/64144 [==============================] - 20s - loss: 0.0043 - categorical_accuracy: 0.9886 - val_loss: 0.0043 - val_categorical_accuracy: 0.9791\n",
      "Epoch 153/200\n",
      "64144/64144 [==============================] - 19s - loss: 0.0043 - categorical_accuracy: 0.9880 - val_loss: 0.0043 - val_categorical_accuracy: 0.9950\n",
      "Epoch 154/200\n",
      "64144/64144 [==============================] - 20s - loss: 0.0043 - categorical_accuracy: 0.9899 - val_loss: 0.0042 - val_categorical_accuracy: 0.9912\n",
      "Epoch 155/200\n",
      "64144/64144 [==============================] - 19s - loss: 0.0042 - categorical_accuracy: 0.9867 - val_loss: 0.0042 - val_categorical_accuracy: 0.9852\n",
      "Epoch 156/200\n",
      "64144/64144 [==============================] - 19s - loss: 0.0042 - categorical_accuracy: 0.9861 - val_loss: 0.0042 - val_categorical_accuracy: 0.9894\n",
      "Epoch 157/200\n",
      "64144/64144 [==============================] - 19s - loss: 0.0042 - categorical_accuracy: 0.9878 - val_loss: 0.0042 - val_categorical_accuracy: 0.9818\n",
      "Epoch 158/200\n",
      "64144/64144 [==============================] - 19s - loss: 0.0041 - categorical_accuracy: 0.9886 - val_loss: 0.0041 - val_categorical_accuracy: 0.9848\n",
      "Epoch 159/200\n",
      "64144/64144 [==============================] - 19s - loss: 0.0041 - categorical_accuracy: 0.9889 - val_loss: 0.0041 - val_categorical_accuracy: 0.9842\n",
      "Epoch 160/200\n",
      "64144/64144 [==============================] - 20s - loss: 0.0041 - categorical_accuracy: 0.9905 - val_loss: 0.0041 - val_categorical_accuracy: 0.9816\n",
      "Epoch 161/200\n",
      "64144/64144 [==============================] - 19s - loss: 0.0041 - categorical_accuracy: 0.9874 - val_loss: 0.0040 - val_categorical_accuracy: 0.9845\n",
      "Epoch 162/200\n",
      "64144/64144 [==============================] - 19s - loss: 0.0040 - categorical_accuracy: 0.9885 - val_loss: 0.0040 - val_categorical_accuracy: 0.9926\n",
      "Epoch 163/200\n",
      "64144/64144 [==============================] - 19s - loss: 0.0040 - categorical_accuracy: 0.9891 - val_loss: 0.0040 - val_categorical_accuracy: 0.9949\n",
      "Epoch 164/200\n",
      "64144/64144 [==============================] - 19s - loss: 0.0040 - categorical_accuracy: 0.9913 - val_loss: 0.0039 - val_categorical_accuracy: 0.9782\n",
      "Epoch 165/200\n",
      "64144/64144 [==============================] - 19s - loss: 0.0039 - categorical_accuracy: 0.9917 - val_loss: 0.0039 - val_categorical_accuracy: 0.9856\n",
      "Epoch 166/200\n",
      "64144/64144 [==============================] - 20s - loss: 0.0039 - categorical_accuracy: 0.9893 - val_loss: 0.0039 - val_categorical_accuracy: 0.9975\n",
      "Epoch 167/200\n",
      "64144/64144 [==============================] - 19s - loss: 0.0039 - categorical_accuracy: 0.9905 - val_loss: 0.0038 - val_categorical_accuracy: 0.9893\n",
      "Epoch 168/200\n",
      "64144/64144 [==============================] - 19s - loss: 0.0038 - categorical_accuracy: 0.9892 - val_loss: 0.0038 - val_categorical_accuracy: 0.9944\n",
      "Epoch 169/200\n",
      "64144/64144 [==============================] - 19s - loss: 0.0038 - categorical_accuracy: 0.9910 - val_loss: 0.0038 - val_categorical_accuracy: 0.9840\n",
      "Epoch 170/200\n",
      "64144/64144 [==============================] - 19s - loss: 0.0038 - categorical_accuracy: 0.9910 - val_loss: 0.0037 - val_categorical_accuracy: 0.9954\n",
      "Epoch 171/200\n",
      "64144/64144 [==============================] - 20s - loss: 0.0038 - categorical_accuracy: 0.9917 - val_loss: 0.0038 - val_categorical_accuracy: 0.9846\n",
      "Epoch 172/200\n",
      "64144/64144 [==============================] - 20s - loss: 0.0037 - categorical_accuracy: 0.9921 - val_loss: 0.0037 - val_categorical_accuracy: 0.9980\n",
      "Epoch 173/200\n",
      "64144/64144 [==============================] - 19s - loss: 0.0037 - categorical_accuracy: 0.9922 - val_loss: 0.0037 - val_categorical_accuracy: 0.9901\n",
      "Epoch 174/200\n",
      "64144/64144 [==============================] - 19s - loss: 0.0037 - categorical_accuracy: 0.9906 - val_loss: 0.0036 - val_categorical_accuracy: 1.0000\n",
      "Epoch 175/200\n",
      "64144/64144 [==============================] - 19s - loss: 0.0037 - categorical_accuracy: 0.9909 - val_loss: 0.0036 - val_categorical_accuracy: 0.9937\n",
      "Epoch 176/200\n",
      "64144/64144 [==============================] - 19s - loss: 0.0036 - categorical_accuracy: 0.9922 - val_loss: 0.0036 - val_categorical_accuracy: 1.0000\n",
      "Epoch 177/200\n",
      "64144/64144 [==============================] - 19s - loss: 0.0036 - categorical_accuracy: 0.9923 - val_loss: 0.0036 - val_categorical_accuracy: 0.9838\n",
      "Epoch 178/200\n",
      "64144/64144 [==============================] - 20s - loss: 0.0036 - categorical_accuracy: 0.9906 - val_loss: 0.0035 - val_categorical_accuracy: 0.9976\n",
      "Epoch 179/200\n",
      "64144/64144 [==============================] - 19s - loss: 0.0036 - categorical_accuracy: 0.9950 - val_loss: 0.0035 - val_categorical_accuracy: 0.9984\n",
      "Epoch 180/200\n",
      "64144/64144 [==============================] - 19s - loss: 0.0035 - categorical_accuracy: 0.9933 - val_loss: 0.0035 - val_categorical_accuracy: 0.9782\n",
      "Epoch 181/200\n",
      "64144/64144 [==============================] - 19s - loss: 0.0035 - categorical_accuracy: 0.9929 - val_loss: 0.0035 - val_categorical_accuracy: 0.9920\n",
      "Epoch 182/200\n",
      "64144/64144 [==============================] - 19s - loss: 0.0035 - categorical_accuracy: 0.9913 - val_loss: 0.0034 - val_categorical_accuracy: 0.9946\n",
      "Epoch 183/200\n",
      "64144/64144 [==============================] - 19s - loss: 0.0035 - categorical_accuracy: 0.9937 - val_loss: 0.0034 - val_categorical_accuracy: 0.9906\n",
      "Epoch 184/200\n",
      "64144/64144 [==============================] - 20s - loss: 0.0034 - categorical_accuracy: 0.9917 - val_loss: 0.0034 - val_categorical_accuracy: 0.9896\n",
      "Epoch 185/200\n",
      "64144/64144 [==============================] - 19s - loss: 0.0034 - categorical_accuracy: 0.9942 - val_loss: 0.0033 - val_categorical_accuracy: 0.9900\n",
      "Epoch 186/200\n",
      "64144/64144 [==============================] - 19s - loss: 0.0034 - categorical_accuracy: 0.9928 - val_loss: 0.0034 - val_categorical_accuracy: 0.9906\n",
      "Epoch 187/200\n",
      "64144/64144 [==============================] - 19s - loss: 0.0034 - categorical_accuracy: 0.9936 - val_loss: 0.0033 - val_categorical_accuracy: 0.9980\n",
      "Epoch 188/200\n",
      "64144/64144 [==============================] - 19s - loss: 0.0033 - categorical_accuracy: 0.9949 - val_loss: 0.0033 - val_categorical_accuracy: 0.9949\n",
      "Epoch 189/200\n"
     ]
    },
    {
     "name": "stdout",
     "output_type": "stream",
     "text": [
      "64144/64144 [==============================] - 19s - loss: 0.0033 - categorical_accuracy: 0.9927 - val_loss: 0.0033 - val_categorical_accuracy: 0.9873\n",
      "Epoch 190/200\n",
      "64144/64144 [==============================] - 20s - loss: 0.0033 - categorical_accuracy: 0.9947 - val_loss: 0.0033 - val_categorical_accuracy: 0.9898\n",
      "Epoch 191/200\n",
      "64144/64144 [==============================] - 19s - loss: 0.0033 - categorical_accuracy: 0.9943 - val_loss: 0.0032 - val_categorical_accuracy: 1.0000\n",
      "Epoch 192/200\n",
      "64144/64144 [==============================] - 19s - loss: 0.0032 - categorical_accuracy: 0.9940 - val_loss: 0.0032 - val_categorical_accuracy: 1.0000\n",
      "Epoch 193/200\n",
      "64144/64144 [==============================] - 19s - loss: 0.0032 - categorical_accuracy: 0.9937 - val_loss: 0.0032 - val_categorical_accuracy: 0.9945\n",
      "Epoch 194/200\n",
      "64144/64144 [==============================] - 19s - loss: 0.0032 - categorical_accuracy: 0.9933 - val_loss: 0.0032 - val_categorical_accuracy: 0.9946\n",
      "Epoch 195/200\n",
      "64144/64144 [==============================] - 19s - loss: 0.0032 - categorical_accuracy: 0.9937 - val_loss: 0.0031 - val_categorical_accuracy: 1.0000\n",
      "Epoch 196/200\n",
      "64144/64144 [==============================] - 21s - loss: 0.0032 - categorical_accuracy: 0.9952 - val_loss: 0.0031 - val_categorical_accuracy: 1.0000\n",
      "Epoch 197/200\n",
      "64144/64144 [==============================] - 20s - loss: 0.0031 - categorical_accuracy: 0.9937 - val_loss: 0.0031 - val_categorical_accuracy: 0.9905\n",
      "Epoch 198/200\n",
      "64144/64144 [==============================] - 19s - loss: 0.0031 - categorical_accuracy: 0.9947 - val_loss: 0.0031 - val_categorical_accuracy: 0.9949oss: 0.0031 -  - ETA: 1s - los\n",
      "Epoch 199/200\n",
      "64144/64144 [==============================] - 19s - loss: 0.0031 - categorical_accuracy: 0.9942 - val_loss: 0.0031 - val_categorical_accuracy: 0.9871: 3s - los -\n",
      "Epoch 200/200\n",
      "64144/64144 [==============================] - 19s - loss: 0.0031 - categorical_accuracy: 0.9942 - val_loss: 0.0030 - val_categorical_accuracy: 0.9949\n"
     ]
    },
    {
     "data": {
      "image/png": "[encoded data removed]",
      "text/plain": [
       "<matplotlib.figure.Figure at 0x2391c358>"
      ]
     },
     "metadata": {},
     "output_type": "display_data"
    }
   ],
   "source": [
    "train_model_v1_1 = build_model()\n",
    "learning_rate = 1e-3;\tprint('learning_rate',learning_rate)\n",
    "adam_opt = Adam(lr=learning_rate, beta_1=0.9, beta_2=0.999, epsilon=1e-08, decay=decay)\n",
    "train_model_v1_1.compile(loss=categorical_crossentropy ,optimizer=adam_opt, metrics=['categorical_accuracy'])\n",
    "########################### Actual training ##################################\n",
    "try :\n",
    "    history_v1_1 = train_model_v1_1.fit(X_train_removed/100., Y_train_removed/100.,  # X_train, Y_train\n",
    "                                        batch_size = batch_size, epochs = training_epochs, verbose = 1,\n",
    "                                        validation_data=(X_val/100.,Y_val/100.), # None (X_val,Y_val)\n",
    "                                        callbacks=[reduce_lr])\n",
    "    plt.figure(figsize=(12,8));k=2;l=1\n",
    "    plt.subplot(k,1,l); plot_loss(history_v1_1, ['loss', 'val_loss'], 'Model Loss', ['train','val'], show_plot=True); l+=1\n",
    "    plt.subplot(k,1,l); plot_loss(history_v1_1, ['categorical_accuracy','val_categorical_accuracy'], 'Model Cat Acc', ['train','val'], show_plot=True); l+=1\n",
    "except KeyboardInterrupt :\n",
    "    print('\\n\\nKeyboardInterrupt !!!')"
   ]
  },
  {
   "cell_type": "code",
   "execution_count": 41,
   "metadata": {},
   "outputs": [
    {
     "name": "stdout",
     "output_type": "stream",
     "text": [
      "Saved model : Logs/Dense_1_model.json\n",
      "Saved weights : Logs/Dense_1_weights.h5\n"
     ]
    }
   ],
   "source": [
    "num_model = 1\n",
    "\n",
    "## Save Model\n",
    "model_path = Weights_path+\"Dense_\"+str(num_model)+\"_model.json\"\n",
    "\n",
    "## Save Weights\n",
    "weights_path = Weights_path+\"Dense_\"+str(num_model)+\"_weights.h5\"\n",
    "\n",
    "save_model(train_model_v1_1, model_path, weights_path)"
   ]
  },
  {
   "cell_type": "markdown",
   "metadata": {},
   "source": [
    "# Prediction"
   ]
  },
  {
   "cell_type": "code",
   "execution_count": 59,
   "metadata": {},
   "outputs": [
    {
     "name": "stdout",
     "output_type": "stream",
     "text": [
      "X_train_50      (64144, 2)\n",
      "Y_train_50      (64144, 201)\n",
      "Y_Pred_train_50 (64144, 201)\n",
      "Y_Pred_val   (25125, 201)\n"
     ]
    }
   ],
   "source": [
    "print('X_train_50     ',X_train_50.shape)\n",
    "print('Y_train_50     ',Y_train_50.shape)\n",
    "\n",
    "Y_Pred_train_50 = train_model.predict(X_train_50/100.)\n",
    "print('Y_Pred_train_50',Y_Pred_train_50.shape)\n",
    "\n",
    "Y_Pred_val = train_model.predict(X_val/100.)\n",
    "print('Y_Pred_val  ',Y_Pred_val.shape)"
   ]
  },
  {
   "cell_type": "code",
   "execution_count": 60,
   "metadata": {},
   "outputs": [
    {
     "name": "stdout",
     "output_type": "stream",
     "text": [
      "X_train[idx] [ 11.  37.]\n",
      "np.argmax( Y_train[idx]) 48\n",
      "np.argmax( Y_Pred[idx]) 116\n",
      "\n",
      "X_val[idx] [ 86.  33.]\n",
      "np.argmax( Y_val[idx]) 119\n",
      "np.argmax( Y_Pred[idx]) 119\n"
     ]
    }
   ],
   "source": [
    "idx = 2\n",
    "\n",
    "print('X_train[idx]', X_train[idx])\n",
    "print('np.argmax( Y_train[idx])', np.argmax( Y_train[idx]))\n",
    "print('np.argmax( Y_Pred[idx])', np.argmax( Y_Pred_train_50[idx]))\n",
    "\n",
    "\n",
    "print('\\nX_val[idx]', X_val[idx])\n",
    "print('np.argmax( Y_val[idx])', np.argmax( Y_val[idx]))\n",
    "print('np.argmax( Y_Pred[idx])', np.argmax( Y_Pred_val[idx]))"
   ]
  },
  {
   "cell_type": "code",
   "execution_count": 34,
   "metadata": {},
   "outputs": [
    {
     "name": "stdout",
     "output_type": "stream",
     "text": [
      "Norm = 0.450424929178\n",
      "Correct = 198 / 353 ( 56.09065155807365 )\n"
     ]
    }
   ],
   "source": [
    "count,count_correct,count_norm = 0,0,0\n",
    "for idx in range(len(X_val)):\n",
    "    x_val = X_val[idx]\n",
    "    if x_val[0]==50 or x_val[1]==50:\n",
    "        count_norm += np.linalg.norm(np.argmax( Y_val[idx])-np.argmax( Y_Pred_val[idx])) # Y_val[idx]-Y_Pred_val[idx]\n",
    "#         print('X_val[idx]', x_val)\n",
    "#         print('np.argmax( Y_val[idx])', np.argmax( Y_val[idx]))\n",
    "#         print('np.argmax( Y_Pred[idx])', np.argmax( Y_Pred_val[idx]))\n",
    "        if np.argmax( Y_val[idx]) == np.argmax( Y_Pred_val[idx]) :\n",
    "            count_correct += 1\n",
    "        count += 1\n",
    "#         break\n",
    "print('Norm =',count_norm/count)\n",
    "print('Correct =',count_correct,'/',count, '(',100*count_correct/count,')')"
   ]
  }
 ],
 "metadata": {
  "kernelspec": {
   "display_name": "Python 3",
   "language": "python",
   "name": "python3"
  },
  "language_info": {
   "codemirror_mode": {
    "name": "ipython",
    "version": 3
   },
   "file_extension": ".py",
   "mimetype": "text/x-python",
   "name": "python",
   "nbconvert_exporter": "python",
   "pygments_lexer": "ipython3",
   "version": "3.5.3"
  }
 },
 "nbformat": 4,
 "nbformat_minor": 2
}
