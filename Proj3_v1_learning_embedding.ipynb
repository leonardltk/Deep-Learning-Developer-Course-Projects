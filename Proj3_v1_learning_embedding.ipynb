{
 "cells": [
  {
   "cell_type": "code",
   "execution_count": 1,
   "metadata": {},
   "outputs": [
    {
     "name": "stderr",
     "output_type": "stream",
     "text": [
      "Using TensorFlow backend.\n"
     ]
    },
    {
     "name": "stdout",
     "output_type": "stream",
     "text": [
      "keras 2.0.8\n",
      "tensorflow 1.3.0\n"
     ]
    }
   ],
   "source": [
    "import sys\n",
    "## To get helper functions from ano`ther folder\n",
    "# sys.path.insert(0, '../') # if _helper_basics_ is in previous folder\n",
    "now_i_am_at = 'home' # home dso test\n",
    "if now_i_am_at=='home':\n",
    "    sys.path.insert(0, 'E:/Leonard HDD/Dropbox/DSO/Tasks/')\n",
    "elif now_i_am_at=='dso':\n",
    "    sys.path.insert(0, 'D:/Dropbox/DSO/Tasks')\n",
    "\n",
    "from _helper_basics_ import *\n",
    "\n",
    "%matplotlib inline\n",
    "plt.rcParams['savefig.dpi'] = 100\n",
    "\n",
    "%load_ext autoreload\n",
    "%autoreload 2\n",
    "\n",
    "print('keras', keras.__version__)\n",
    "print('tensorflow', tf.__version__)"
   ]
  },
  {
   "cell_type": "markdown",
   "metadata": {},
   "source": [
    "# Data"
   ]
  },
  {
   "cell_type": "code",
   "execution_count": null,
   "metadata": {
    "collapsed": true
   },
   "outputs": [],
   "source": [
    "data_mode = 'reuters'\n",
    "Data_dir = 'Data_'+data_mode+'/'\n",
    "\n",
    "X_train = np.load(Data_dir+'X_train_reu.npy')\n",
    "Y_train = np.load(Data_dir+'Y_train_reu.npy')\n",
    "X_test = np.load(Data_dir+'X_test_reu.npy')\n",
    "Y_test = np.load(Data_dir+'Y_test_reu.npy')\n",
    "\n",
    "print('X_train', X_train.shape)\n",
    "print('Y_train', Y_train.shape)\n",
    "print('X_test ', X_test.shape)\n",
    "print('Y_test ', Y_test.shape)"
   ]
  },
  {
   "cell_type": "code",
   "execution_count": 7,
   "metadata": {},
   "outputs": [
    {
     "name": "stdout",
     "output_type": "stream",
     "text": [
      "X_train (20000, 80)\n",
      "Y_train (20000, 2)\n",
      "X_test  (4000, 80)\n",
      "Y_test  (4000, 2)\n"
     ]
    }
   ],
   "source": [
    "data_mode = 'imdb'\n",
    "Data_dir = 'Data_'+data_mode+'/'\n",
    "\n",
    "## Without splitting into train/test set\n",
    "# X_train = np.load(Data_dir+'X_train_imdb.npy')\n",
    "# Y_train = np.load(Data_dir+'Y_train_imdb.npy')\n",
    "\n",
    "## Split into train/test set\n",
    "X_train = np.load(Data_dir+'X_train_spliced.npy')\n",
    "Y_train = np.load(Data_dir+'Y_train_spliced.npy')\n",
    "X_test = np.load(Data_dir+'X_test_spliced.npy')\n",
    "Y_test = np.load(Data_dir+'Y_test_spliced.npy')\n",
    "\n",
    "print('X_train', X_train.shape)\n",
    "print('Y_train', Y_train.shape)\n",
    "print('X_test ', X_test.shape)\n",
    "print('Y_test ', Y_test.shape)"
   ]
  },
  {
   "cell_type": "code",
   "execution_count": 25,
   "metadata": {
    "collapsed": true
   },
   "outputs": [],
   "source": [
    "Archi_dir = \"v1/\"\n",
    "Weights_path = Archi_dir+\"Logs/\"\n",
    "Ckpt_Mod_Weights_fold = Archi_dir+\"Checkpoint_Model_Weights/\"\n",
    "if not os.path.exists(Archi_dir): os.mkdir(Archi_dir)\n",
    "if not os.path.exists(Weights_path): os.mkdir(Weights_path)\n",
    "if not os.path.exists(Ckpt_Mod_Weights_fold): os.mkdir(Ckpt_Mod_Weights_fold)\n",
    "    \n",
    "plot_path_dir = Archi_dir+'Plots/'\n",
    "if not os.path.exists(plot_path_dir): os.mkdir(plot_path_dir)"
   ]
  },
  {
   "cell_type": "markdown",
   "metadata": {},
   "source": [
    "## Setup "
   ]
  },
  {
   "cell_type": "code",
   "execution_count": 11,
   "metadata": {
    "collapsed": true
   },
   "outputs": [],
   "source": [
    "num_words = 20000\n",
    "input_length  = 80\n",
    "num_class  = Y_train.shape[1] # 46\n",
    "input_dim, output_dim = num_words, 128\n",
    "########################### Architecture ##################################\n",
    "def build_model_reg(dropout_rate, reg_l1=0., reg_l2=0.):\n",
    "    Inp = Input(shape=(input_length,), name=\"Input\")\n",
    "    x   = Embedding(input_dim, output_dim, mask_zero=True, input_length=input_length)(Inp)\n",
    "    x   = GRU(128, name=\"RNN_1\", return_sequences=False, kernel_regularizer=l2(reg_l2))(x) \n",
    "    x   = Dropout(dropout_rate)(x)\n",
    "    x   = Dense(num_class, activation='softmax',name = \"Output\" )(x)\n",
    "    model = Model(Inp, x)\n",
    "    ########################### Printing information ########################\n",
    "    model.summary()\n",
    "    # print_model_weights(model)\n",
    "    \n",
    "    return model"
   ]
  },
  {
   "cell_type": "code",
   "execution_count": 29,
   "metadata": {},
   "outputs": [
    {
     "name": "stdout",
     "output_type": "stream",
     "text": [
      "learning_rate None\n",
      "decay 1e-09\n",
      "training_epochs 100\n",
      "batch_size 32\n"
     ]
    }
   ],
   "source": [
    "######################## Training Parameters ###############################\n",
    "learning_rate = None;\tprint('learning_rate',learning_rate)\n",
    "decay = 1e-9;          \tprint('decay',decay)\n",
    "training_epochs = 100;\tprint('training_epochs',training_epochs)\n",
    "batch_size = 32;\t\tprint('batch_size',batch_size)\n",
    "######################## Checkpoints ###############################\n",
    "reduce_lr = ReduceLROnPlateau(monitor='val_loss', factor=0.2, patience=10, min_lr=1e-6, cooldown=5, epsilon=1e-05, verbose=1)"
   ]
  },
  {
   "cell_type": "markdown",
   "metadata": {},
   "source": [
    "## Regularization with lr=1e-3"
   ]
  },
  {
   "cell_type": "code",
   "execution_count": 31,
   "metadata": {},
   "outputs": [
    {
     "name": "stdout",
     "output_type": "stream",
     "text": [
      "_________________________________________________________________\n",
      "Layer (type)                 Output Shape              Param #   \n",
      "=================================================================\n",
      "Input (InputLayer)           (None, 80)                0         \n",
      "_________________________________________________________________\n",
      "embedding_9 (Embedding)      (None, 80, 128)           2560000   \n",
      "_________________________________________________________________\n",
      "RNN_1 (GRU)                  (None, 128)               98688     \n",
      "_________________________________________________________________\n",
      "dropout_7 (Dropout)          (None, 128)               0         \n",
      "_________________________________________________________________\n",
      "Output (Dense)               (None, 2)                 258       \n",
      "=================================================================\n",
      "Total params: 2,658,946\n",
      "Trainable params: 2,658,946\n",
      "Non-trainable params: 0\n",
      "_________________________________________________________________\n",
      "learning_rate 0.001\n",
      "ckpt_path :  v1/Checkpoint_Model_Weights/1e-3/weights_LR-1.00e-03_Epoch-{epoch:04d}_VCA-{val_categorical_accuracy:.2f}.hdf5 \n",
      "\n",
      "Train on 20000 samples, validate on 4000 samples\n",
      "Epoch 1/30\n",
      "19968/20000 [============================>.] - ETA: 0s - loss: 0.4717 - categorical_accuracy: 0.7804Epoch 00000: saving model to v1/Checkpoint_Model_Weights/1e-3/weights_LR-1.00e-03_Epoch-0000_VCA-0.92.hdf5\n",
      "20000/20000 [==============================] - 144s - loss: 0.4714 - categorical_accuracy: 0.7806 - val_loss: 0.2388 - val_categorical_accuracy: 0.9183\n",
      "Epoch 2/30\n",
      "19968/20000 [============================>.] - ETA: 0s - loss: 0.2614 - categorical_accuracy: 0.9004Epoch 00001: saving model to v1/Checkpoint_Model_Weights/1e-3/weights_LR-1.00e-03_Epoch-0001_VCA-0.96.hdf5\n",
      "20000/20000 [==============================] - 137s - loss: 0.2617 - categorical_accuracy: 0.9003 - val_loss: 0.1625 - val_categorical_accuracy: 0.9610\n",
      "Epoch 3/30\n",
      "19968/20000 [============================>.] - ETA: 0s - loss: 0.1656 - categorical_accuracy: 0.9424Epoch 00002: saving model to v1/Checkpoint_Model_Weights/1e-3/weights_LR-1.00e-03_Epoch-0002_VCA-0.98.hdf5\n",
      "20000/20000 [==============================] - 138s - loss: 0.1655 - categorical_accuracy: 0.9424 - val_loss: 0.0736 - val_categorical_accuracy: 0.9832\n",
      "Epoch 4/30\n",
      "19968/20000 [============================>.] - ETA: 0s - loss: 0.0960 - categorical_accuracy: 0.9699Epoch 00003: saving model to v1/Checkpoint_Model_Weights/1e-3/weights_LR-1.00e-03_Epoch-0003_VCA-0.98.hdf5\n",
      "20000/20000 [==============================] - 137s - loss: 0.0962 - categorical_accuracy: 0.9698 - val_loss: 0.0734 - val_categorical_accuracy: 0.9842\n",
      "Epoch 5/30\n",
      "19968/20000 [============================>.] - ETA: 0s - loss: 0.0602 - categorical_accuracy: 0.9836Epoch 00004: saving model to v1/Checkpoint_Model_Weights/1e-3/weights_LR-1.00e-03_Epoch-0004_VCA-0.99.hdf5\n",
      "20000/20000 [==============================] - 137s - loss: 0.0603 - categorical_accuracy: 0.9836 - val_loss: 0.0331 - val_categorical_accuracy: 0.9928\n",
      "Epoch 6/30\n",
      "19968/20000 [============================>.] - ETA: 0s - loss: 0.0441 - categorical_accuracy: 0.9886Epoch 00005: saving model to v1/Checkpoint_Model_Weights/1e-3/weights_LR-1.00e-03_Epoch-0005_VCA-1.00.hdf5\n",
      "20000/20000 [==============================] - 137s - loss: 0.0441 - categorical_accuracy: 0.9886 - val_loss: 0.0289 - val_categorical_accuracy: 0.9965\n",
      "Epoch 7/30\n",
      "19968/20000 [============================>.] - ETA: 0s - loss: 0.0281 - categorical_accuracy: 0.9939Epoch 00006: saving model to v1/Checkpoint_Model_Weights/1e-3/weights_LR-1.00e-03_Epoch-0006_VCA-0.99.hdf5\n",
      "20000/20000 [==============================] - 137s - loss: 0.0281 - categorical_accuracy: 0.9938 - val_loss: 0.0291 - val_categorical_accuracy: 0.9935\n",
      "Epoch 8/30\n",
      "19968/20000 [============================>.] - ETA: 0s - loss: 0.0253 - categorical_accuracy: 0.9946Epoch 00007: saving model to v1/Checkpoint_Model_Weights/1e-3/weights_LR-1.00e-03_Epoch-0007_VCA-1.00.hdf5\n",
      "20000/20000 [==============================] - 137s - loss: 0.0253 - categorical_accuracy: 0.9946 - val_loss: 0.0105 - val_categorical_accuracy: 0.9995\n",
      "Epoch 9/30\n",
      "19968/20000 [============================>.] - ETA: 0s - loss: 0.0225 - categorical_accuracy: 0.9941Epoch 00008: saving model to v1/Checkpoint_Model_Weights/1e-3/weights_LR-1.00e-03_Epoch-0008_VCA-1.00.hdf5\n",
      "20000/20000 [==============================] - 138s - loss: 0.0226 - categorical_accuracy: 0.9941 - val_loss: 0.0121 - val_categorical_accuracy: 0.9982\n",
      "Epoch 10/30\n",
      "19968/20000 [============================>.] - ETA: 0s - loss: 0.0203 - categorical_accuracy: 0.9952Epoch 00009: saving model to v1/Checkpoint_Model_Weights/1e-3/weights_LR-1.00e-03_Epoch-0009_VCA-1.00.hdf5\n",
      "20000/20000 [==============================] - 136s - loss: 0.0203 - categorical_accuracy: 0.9952 - val_loss: 0.0109 - val_categorical_accuracy: 0.9985\n",
      "Epoch 11/30\n",
      "19968/20000 [============================>.] - ETA: 0s - loss: 0.0212 - categorical_accuracy: 0.9951Epoch 00010: saving model to v1/Checkpoint_Model_Weights/1e-3/weights_LR-1.00e-03_Epoch-0010_VCA-1.00.hdf5\n",
      "20000/20000 [==============================] - 137s - loss: 0.0213 - categorical_accuracy: 0.9951 - val_loss: 0.0106 - val_categorical_accuracy: 0.9980\n",
      "Epoch 12/30\n",
      "19968/20000 [============================>.] - ETA: 0s - loss: 0.0165 - categorical_accuracy: 0.9958Epoch 00011: saving model to v1/Checkpoint_Model_Weights/1e-3/weights_LR-1.00e-03_Epoch-0011_VCA-1.00.hdf5\n",
      "20000/20000 [==============================] - 137s - loss: 0.0165 - categorical_accuracy: 0.9959 - val_loss: 0.0102 - val_categorical_accuracy: 0.9990\n",
      "Epoch 13/30\n",
      "19968/20000 [============================>.] - ETA: 0s - loss: 0.0165 - categorical_accuracy: 0.9964Epoch 00012: saving model to v1/Checkpoint_Model_Weights/1e-3/weights_LR-1.00e-03_Epoch-0012_VCA-0.99.hdf5\n",
      "20000/20000 [==============================] - 137s - loss: 0.0165 - categorical_accuracy: 0.9964 - val_loss: 0.0289 - val_categorical_accuracy: 0.9922\n",
      "Epoch 14/30\n",
      "19968/20000 [============================>.] - ETA: 0s - loss: 0.0129 - categorical_accuracy: 0.9979 ETA: Epoch 00013: saving model to v1/Checkpoint_Model_Weights/1e-3/weights_LR-1.00e-03_Epoch-0013_VCA-1.00.hdf5\n",
      "20000/20000 [==============================] - 137s - loss: 0.0129 - categorical_accuracy: 0.9979 - val_loss: 0.0080 - val_categorical_accuracy: 0.9992\n",
      "Epoch 15/30\n",
      "19968/20000 [============================>.] - ETA: 0s - loss: 0.0112 - categorical_accuracy: 0.9977Epoch 00014: saving model to v1/Checkpoint_Model_Weights/1e-3/weights_LR-1.00e-03_Epoch-0014_VCA-1.00.hdf5\n",
      "20000/20000 [==============================] - 137s - loss: 0.0111 - categorical_accuracy: 0.9978 - val_loss: 0.0077 - val_categorical_accuracy: 0.9995\n",
      "Epoch 16/30\n",
      "19968/20000 [============================>.] - ETA: 0s - loss: 0.0103 - categorical_accuracy: 0.9981Epoch 00015: saving model to v1/Checkpoint_Model_Weights/1e-3/weights_LR-1.00e-03_Epoch-0015_VCA-1.00.hdf5\n",
      "20000/20000 [==============================] - 137s - loss: 0.0103 - categorical_accuracy: 0.9981 - val_loss: 0.0070 - val_categorical_accuracy: 0.9992\n",
      "Epoch 17/30\n",
      "19968/20000 [============================>.] - ETA: 0s - loss: 0.0094 - categorical_accuracy: 0.9985Epoch 00016: saving model to v1/Checkpoint_Model_Weights/1e-3/weights_LR-1.00e-03_Epoch-0016_VCA-0.99.hdf5\n",
      "20000/20000 [==============================] - 136s - loss: 0.0094 - categorical_accuracy: 0.9986 - val_loss: 0.0200 - val_categorical_accuracy: 0.9948\n",
      "Epoch 18/30\n",
      "19968/20000 [============================>.] - ETA: 0s - loss: 0.0147 - categorical_accuracy: 0.9965Epoch 00017: saving model to v1/Checkpoint_Model_Weights/1e-3/weights_LR-1.00e-03_Epoch-0017_VCA-1.00.hdf5\n",
      "20000/20000 [==============================] - 136s - loss: 0.0146 - categorical_accuracy: 0.9965 - val_loss: 0.0097 - val_categorical_accuracy: 0.9990\n",
      "Epoch 19/30\n",
      "19968/20000 [============================>.] - ETA: 0s - loss: 0.0086 - categorical_accuracy: 0.9987Epoch 00018: saving model to v1/Checkpoint_Model_Weights/1e-3/weights_LR-1.00e-03_Epoch-0018_VCA-1.00.hdf5\n"
     ]
    },
    {
     "name": "stdout",
     "output_type": "stream",
     "text": [
      "20000/20000 [==============================] - 136s - loss: 0.0088 - categorical_accuracy: 0.9987 - val_loss: 0.0084 - val_categorical_accuracy: 0.9985\n",
      "Epoch 20/30\n",
      "19968/20000 [============================>.] - ETA: 0s - loss: 0.0122 - categorical_accuracy: 0.9976Epoch 00019: saving model to v1/Checkpoint_Model_Weights/1e-3/weights_LR-1.00e-03_Epoch-0019_VCA-1.00.hdf5\n",
      "20000/20000 [==============================] - 136s - loss: 0.0126 - categorical_accuracy: 0.9975 - val_loss: 0.0086 - val_categorical_accuracy: 0.9990\n",
      "Epoch 21/30\n",
      "19968/20000 [============================>.] - ETA: 0s - loss: 0.0098 - categorical_accuracy: 0.9981Epoch 00020: saving model to v1/Checkpoint_Model_Weights/1e-3/weights_LR-1.00e-03_Epoch-0020_VCA-1.00.hdf5\n",
      "20000/20000 [==============================] - 136s - loss: 0.0098 - categorical_accuracy: 0.9981 - val_loss: 0.0050 - val_categorical_accuracy: 0.9998\n",
      "Epoch 22/30\n",
      "19968/20000 [============================>.] - ETA: 0s - loss: 0.0056 - categorical_accuracy: 0.9995Epoch 00021: saving model to v1/Checkpoint_Model_Weights/1e-3/weights_LR-1.00e-03_Epoch-0021_VCA-1.00.hdf5\n",
      "20000/20000 [==============================] - 136s - loss: 0.0056 - categorical_accuracy: 0.9995 - val_loss: 0.0058 - val_categorical_accuracy: 0.9995\n",
      "Epoch 23/30\n",
      "19968/20000 [============================>.] - ETA: 0s - loss: 0.0042 - categorical_accuracy: 0.9996Epoch 00022: saving model to v1/Checkpoint_Model_Weights/1e-3/weights_LR-1.00e-03_Epoch-0022_VCA-1.00.hdf5\n",
      "20000/20000 [==============================] - 136s - loss: 0.0042 - categorical_accuracy: 0.9996 - val_loss: 0.0027 - val_categorical_accuracy: 1.0000\n",
      "Epoch 24/30\n",
      "19968/20000 [============================>.] - ETA: 0s - loss: 0.0048 - categorical_accuracy: 0.9993 ETA: 2s - loss: 0.0047 - cateEpoch 00023: saving model to v1/Checkpoint_Model_Weights/1e-3/weights_LR-1.00e-03_Epoch-0023_VCA-1.00.hdf5\n",
      "20000/20000 [==============================] - 136s - loss: 0.0048 - categorical_accuracy: 0.9994 - val_loss: 0.0060 - val_categorical_accuracy: 0.9992\n",
      "Epoch 25/30\n",
      "19968/20000 [============================>.] - ETA: 0s - loss: 0.0107 - categorical_accuracy: 0.9976 ETAEpoch 00024: saving model to v1/Checkpoint_Model_Weights/1e-3/weights_LR-1.00e-03_Epoch-0024_VCA-1.00.hdf5\n",
      "20000/20000 [==============================] - 136s - loss: 0.0107 - categorical_accuracy: 0.9977 - val_loss: 0.0044 - val_categorical_accuracy: 0.9998\n",
      "Epoch 26/30\n",
      "19968/20000 [============================>.] - ETA: 0s - loss: 0.0075 - categorical_accuracy: 0.9986Epoch 00025: saving model to v1/Checkpoint_Model_Weights/1e-3/weights_LR-1.00e-03_Epoch-0025_VCA-1.00.hdf5\n",
      "20000/20000 [==============================] - 136s - loss: 0.0075 - categorical_accuracy: 0.9986 - val_loss: 0.0067 - val_categorical_accuracy: 0.9992\n",
      "Epoch 27/30\n",
      "19968/20000 [============================>.] - ETA: 0s - loss: 0.0094 - categorical_accuracy: 0.9985Epoch 00026: saving model to v1/Checkpoint_Model_Weights/1e-3/weights_LR-1.00e-03_Epoch-0026_VCA-1.00.hdf5\n",
      "20000/20000 [==============================] - 136s - loss: 0.0094 - categorical_accuracy: 0.9986 - val_loss: 0.0036 - val_categorical_accuracy: 1.0000\n",
      "Epoch 28/30\n",
      "19968/20000 [============================>.] - ETA: 0s - loss: 0.0038 - categorical_accuracy: 0.9998Epoch 00027: saving model to v1/Checkpoint_Model_Weights/1e-3/weights_LR-1.00e-03_Epoch-0027_VCA-1.00.hdf5\n",
      "20000/20000 [==============================] - 136s - loss: 0.0038 - categorical_accuracy: 0.9999 - val_loss: 0.0027 - val_categorical_accuracy: 1.0000\n",
      "Epoch 29/30\n",
      "19968/20000 [============================>.] - ETA: 0s - loss: 0.0118 - categorical_accuracy: 0.9975Epoch 00028: saving model to v1/Checkpoint_Model_Weights/1e-3/weights_LR-1.00e-03_Epoch-0028_VCA-1.00.hdf5\n",
      "20000/20000 [==============================] - 136s - loss: 0.0118 - categorical_accuracy: 0.9976 - val_loss: 0.0052 - val_categorical_accuracy: 1.0000\n",
      "Epoch 30/30\n",
      "19968/20000 [============================>.] - ETA: 0s - loss: 0.0060 - categorical_accuracy: 0.9992 ETA: 4s - lEpoch 00029: saving model to v1/Checkpoint_Model_Weights/1e-3/weights_LR-1.00e-03_Epoch-0029_VCA-1.00.hdf5\n",
      "20000/20000 [==============================] - 136s - loss: 0.0060 - categorical_accuracy: 0.9992 - val_loss: 0.0048 - val_categorical_accuracy: 0.9995\n"
     ]
    },
    {
     "ename": "NameError",
     "evalue": "name 'history_1' is not defined",
     "output_type": "error",
     "traceback": [
      "\u001b[1;31m---------------------------------------------------------------------------\u001b[0m",
      "\u001b[1;31mNameError\u001b[0m                                 Traceback (most recent call last)",
      "\u001b[1;32m<ipython-input-31-6829612b36cf>\u001b[0m in \u001b[0;36m<module>\u001b[1;34m()\u001b[0m\n\u001b[0;32m     16\u001b[0m                                          callbacks=[reduce_lr, csv_log, ckpt]) \n\u001b[0;32m     17\u001b[0m     \u001b[0mplt\u001b[0m\u001b[1;33m.\u001b[0m\u001b[0mfigure\u001b[0m\u001b[1;33m(\u001b[0m\u001b[0mfigsize\u001b[0m\u001b[1;33m=\u001b[0m\u001b[1;33m(\u001b[0m\u001b[1;36m14\u001b[0m\u001b[1;33m,\u001b[0m\u001b[1;36m4\u001b[0m\u001b[1;33m)\u001b[0m\u001b[1;33m)\u001b[0m\u001b[1;33m\u001b[0m\u001b[0m\n\u001b[1;32m---> 18\u001b[1;33m     \u001b[0mplt\u001b[0m\u001b[1;33m.\u001b[0m\u001b[0msubplot\u001b[0m\u001b[1;33m(\u001b[0m\u001b[1;36m1\u001b[0m\u001b[1;33m,\u001b[0m\u001b[1;36m2\u001b[0m\u001b[1;33m,\u001b[0m\u001b[1;36m1\u001b[0m\u001b[1;33m)\u001b[0m\u001b[1;33m;\u001b[0m\u001b[0mplot_loss\u001b[0m\u001b[1;33m(\u001b[0m\u001b[0mhistory_1\u001b[0m\u001b[1;33m,\u001b[0m \u001b[0mmetric_list\u001b[0m\u001b[1;33m=\u001b[0m\u001b[1;33m[\u001b[0m\u001b[1;34m'loss'\u001b[0m\u001b[1;33m,\u001b[0m\u001b[1;34m'val_loss'\u001b[0m\u001b[1;33m]\u001b[0m\u001b[1;33m,\u001b[0m \u001b[0mtitle\u001b[0m\u001b[1;33m=\u001b[0m\u001b[1;34m'Loss'\u001b[0m\u001b[1;33m,\u001b[0m \u001b[0mlegend_list\u001b[0m\u001b[1;33m=\u001b[0m\u001b[1;33m[\u001b[0m\u001b[1;34m'train'\u001b[0m\u001b[1;33m,\u001b[0m \u001b[1;34m'val'\u001b[0m\u001b[1;33m]\u001b[0m\u001b[1;33m,\u001b[0m  \u001b[0mplot_path\u001b[0m\u001b[1;33m=\u001b[0m\u001b[0mplot_path\u001b[0m\u001b[1;33m)\u001b[0m\u001b[1;33m\u001b[0m\u001b[0m\n\u001b[0m\u001b[0;32m     19\u001b[0m     \u001b[0mplt\u001b[0m\u001b[1;33m.\u001b[0m\u001b[0msubplot\u001b[0m\u001b[1;33m(\u001b[0m\u001b[1;36m1\u001b[0m\u001b[1;33m,\u001b[0m\u001b[1;36m2\u001b[0m\u001b[1;33m,\u001b[0m\u001b[1;36m2\u001b[0m\u001b[1;33m)\u001b[0m\u001b[1;33m;\u001b[0m\u001b[0mplot_loss\u001b[0m\u001b[1;33m(\u001b[0m\u001b[0mhistory_1\u001b[0m\u001b[1;33m,\u001b[0m \u001b[0mmetric_list\u001b[0m\u001b[1;33m=\u001b[0m\u001b[1;33m[\u001b[0m\u001b[1;34m'categorical_accuracy'\u001b[0m\u001b[1;33m,\u001b[0m\u001b[1;34m'val_categorical_accuracy'\u001b[0m\u001b[1;33m]\u001b[0m\u001b[1;33m,\u001b[0m \u001b[0mtitle\u001b[0m\u001b[1;33m=\u001b[0m\u001b[1;34m'Accuracy'\u001b[0m\u001b[1;33m,\u001b[0m \u001b[0mlegend_list\u001b[0m\u001b[1;33m=\u001b[0m\u001b[1;33m[\u001b[0m\u001b[1;34m'train'\u001b[0m\u001b[1;33m,\u001b[0m \u001b[1;34m'val'\u001b[0m\u001b[1;33m]\u001b[0m\u001b[1;33m,\u001b[0m \u001b[0mplot_path\u001b[0m\u001b[1;33m=\u001b[0m\u001b[0mplot_path\u001b[0m\u001b[1;33m)\u001b[0m\u001b[1;33m\u001b[0m\u001b[0m\n\u001b[0;32m     20\u001b[0m     \u001b[0mplt\u001b[0m\u001b[1;33m.\u001b[0m\u001b[0mtight_layout\u001b[0m\u001b[1;33m(\u001b[0m\u001b[1;33m)\u001b[0m\u001b[1;33m\u001b[0m\u001b[0m\n",
      "\u001b[1;31mNameError\u001b[0m: name 'history_1' is not defined"
     ]
    },
    {
     "data": {
      "image/png": "[encoded data removed]",
      "text/plain": [
       "<matplotlib.figure.Figure at 0x2696f1e0978>"
      ]
     },
     "metadata": {},
     "output_type": "display_data"
    }
   ],
   "source": [
    "train_model_v1_2 = build_model_reg(dropout_rate=0.2, reg_l2=5/len(Y_train))\n",
    "\n",
    "learning_rate = 1e-3;   print('learning_rate',learning_rate)\n",
    "adam_opt  = Adam(lr=learning_rate, decay=decay)\n",
    "train_model_v1_2.compile(loss='categorical_crossentropy', optimizer=adam_opt, metrics=['categorical_accuracy'])\n",
    "######################## Checkpoints ###############################\n",
    "CkptFold_det = ['{:.2e}'.format(learning_rate), Ckpt_Mod_Weights_fold, '1e-3/'] # [str_int, Ckpt_Mod_Weights_Fold, LR_Fold]\n",
    "ModelCheckpoint_det = ['val_categorical_accuracy', 1, False, True, 1] # [monitor_modes, verbose_ckpt, save_best_only, save_weights_only, period]\n",
    "ckpt = ckpt_saving(CkptFold_det, ModelCheckpoint_det, save_all=True)\n",
    "csv_log = CSVLogger(Weights_path+'v1_2_Trg_log_{:.2e}.txt'.format(learning_rate), '\\t', append=False)\n",
    "plot_path = plot_path_dir+'v1_2_{:.2e}.png'.format(learning_rate)\n",
    "############################### Training #############################\n",
    "try:\n",
    "    history_v1_2 = train_model_v1_2.fit(X_train,Y_train, batch_size=batch_size, epochs=30, verbose=1, \n",
    "                                         validation_split = 0., validation_data=(X_test,Y_test), # None (X_val,Y_val)\n",
    "                                         callbacks=[reduce_lr, csv_log, ckpt]) \n",
    "    plt.figure(figsize=(14,4))\n",
    "    plt.subplot(1,2,1);plot_loss(history_v1_2, metric_list=['loss','val_loss'], title='Loss', legend_list=['train', 'val'],  plot_path=plot_path)\n",
    "    plt.subplot(1,2,2);plot_loss(history_v1_2, metric_list=['categorical_accuracy','val_categorical_accuracy'], title='Accuracy', legend_list=['train', 'val'], plot_path=plot_path)\n",
    "    plt.tight_layout()\n",
    "except KeyboardInterrupt: \n",
    "    print('\\n\\nKeyboardInterrupt !!!')"
   ]
  },
  {
   "cell_type": "code",
   "execution_count": 33,
   "metadata": {},
   "outputs": [
    {
     "data": {
      "image/png": "[encoded data removed]",
      "text/plain": [
       "<matplotlib.figure.Figure at 0x26a0096cd30>"
      ]
     },
     "metadata": {},
     "output_type": "display_data"
    }
   ],
   "source": [
    "plt.figure(figsize=(14,4))\n",
    "plt.subplot(1,2,1);plot_loss(history_v1_2, metric_list=['loss','val_loss'], title='Loss', legend_list=['train', 'val'],  plot_path=plot_path)\n",
    "plt.subplot(1,2,2);plot_loss(history_v1_2, metric_list=['categorical_accuracy','val_categorical_accuracy'], title='Accuracy', legend_list=['train', 'val'], plot_path=plot_path)\n",
    "plt.tight_layout()"
   ]
  },
  {
   "cell_type": "code",
   "execution_count": 35,
   "metadata": {},
   "outputs": [
    {
     "name": "stdout",
     "output_type": "stream",
     "text": [
      "20000/20000 [==============================] - 50s    \n",
      "\n",
      "result_train:\n",
      " [0.0050589485116302969, 0.99939999999999996]\n",
      "4000/4000 [==============================] - 10s    \n",
      "\n",
      "result_test:\n",
      " [0.004798408726230264, 0.99950000000000006]\n"
     ]
    }
   ],
   "source": [
    "############################## Evaluation #############################\n",
    "result_train = train_model_v1_2.evaluate(X_train, Y_train, verbose=1)\n",
    "print('\\nresult_train:\\n',result_train)\n",
    "result_test = train_model_v1_2.evaluate(X_test, Y_test, verbose=1)\n",
    "print('\\nresult_test:\\n',result_test)"
   ]
  }
 ],
 "metadata": {
  "kernelspec": {
   "display_name": "Python 3",
   "language": "python",
   "name": "python3"
  },
  "language_info": {
   "codemirror_mode": {
    "name": "ipython",
    "version": 3
   },
   "file_extension": ".py",
   "mimetype": "text/x-python",
   "name": "python",
   "nbconvert_exporter": "python",
   "pygments_lexer": "ipython3",
   "version": "3.5.3"
  }
 },
 "nbformat": 4,
 "nbformat_minor": 2
}
