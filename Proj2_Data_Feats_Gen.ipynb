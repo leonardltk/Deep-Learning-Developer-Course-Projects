{
 "cells": [
  {
   "cell_type": "code",
   "execution_count": null,
   "metadata": {
    "collapsed": true
   },
   "outputs": [],
   "source": [
    "Data Generation Standard (v1)\n",
    "    x_data ==> X_train\n",
    "Data Generation Features of Pre-trained models (v2, v3)\n",
    "    X_train ==> X_train_feats_v2\n",
    "            ==> X_train_feats_v3"
   ]
  },
  {
   "cell_type": "code",
   "execution_count": 1,
   "metadata": {},
   "outputs": [
    {
     "name": "stderr",
     "output_type": "stream",
     "text": [
      "Using TensorFlow backend.\n"
     ]
    },
    {
     "name": "stdout",
     "output_type": "stream",
     "text": [
      "keras 2.0.5\n",
      "tensorflow 1.2.0\n"
     ]
    }
   ],
   "source": [
    "import sys\n",
    "## To get helper functions from another folder\n",
    "# sys.path.insert(0, '../') # if _helper_basics_ is in previous folder\n",
    "now_i_am_at = 'home' # home dso test\n",
    "if now_i_am_at=='home': sys.path.insert(0, 'E:/Leonard HDD/Dropbox/DSO/Tasks/')\n",
    "elif now_i_am_at=='dso': sys.path.insert(0, 'D:/Dropbox/DSO/Tasks')\n",
    "\n",
    "from _helper_basics_ import *\n",
    "\n",
    "%matplotlib inline\n",
    "plt.rcParams['savefig.dpi'] = 100\n",
    "\n",
    "%load_ext autoreload\n",
    "%autoreload 2\n",
    "\n",
    "print('keras', keras.__version__)\n",
    "print('tensorflow', tf.__version__)"
   ]
  },
  {
   "cell_type": "code",
   "execution_count": 2,
   "metadata": {
    "collapsed": true
   },
   "outputs": [],
   "source": [
    "def show_object(obj):\n",
    "    # Reshape 784 array into 28x28 image\n",
    "    image = obj.reshape([28,28])\n",
    "    fig, axes = plt.subplots(1, )\n",
    "    fig.subplots_adjust(hspace=0.5, wspace=0.5)\n",
    "    plt.imshow(image, cmap='gray_r')\n",
    "    plt.show()\n",
    "#shuffling function\n",
    "def unison_shuffled_copies(a, b):\n",
    "    assert len(a) == len(b)\n",
    "    p = np.random.permutation(len(a))\n",
    "    return a[p], b[p]\n",
    "\n",
    "num_examples_per_class = 2000\n",
    "classes = ['airplane','alarm clock','ambulance','angel','ant','anvil','apple','axe', 'banana','bandage','barn','baseball bat','baseball',\n",
    "           'basket', 'basketball','bathtub','beach','bear','beard','bed','bee','belt', 'bicycle','binoculars','birthday cake','blueberry', \n",
    "           'book','boomerang','bottlecap','bowtie','bracelet','brain', 'bread','broom','bulldozer','bus','bush','butterfly','cactus','cake']\n",
    "num_classes = len(classes)"
   ]
  },
  {
   "cell_type": "markdown",
   "metadata": {},
   "source": [
    "# Data Generation: Standard\n",
    "x_data ==> X_train"
   ]
  },
  {
   "cell_type": "code",
   "execution_count": 8,
   "metadata": {},
   "outputs": [
    {
     "name": "stdout",
     "output_type": "stream",
     "text": [
      "x_data (80000, 784)\n",
      "y_data (80000,)\n"
     ]
    }
   ],
   "source": [
    "## x_data\n",
    "x_data = np.load(\"./x_data_40_classes_2k.npy\")\n",
    "\n",
    "## y_data\n",
    "labels = [np.full((num_examples_per_class,), classes.index(qdraw)) for qdraw in classes]\n",
    "y_data = np.concatenate(labels,axis=0)\n",
    "\n",
    "## Shuffling\n",
    "x_data,y_data = unison_shuffled_copies(x_data,y_data)\n",
    "print('x_data',x_data.shape)\n",
    "print('y_data',y_data.shape)"
   ]
  },
  {
   "cell_type": "code",
   "execution_count": null,
   "metadata": {
    "collapsed": true
   },
   "outputs": [],
   "source": [
    "np.save('x_data.npy',x_data)\n",
    "np.save('y_data.npy',y_data)\n",
    "\n",
    "np.save('X_train.npy',X_train)\n",
    "np.save('Y_train.npy',Y_train)"
   ]
  },
  {
   "cell_type": "code",
   "execution_count": 10,
   "metadata": {},
   "outputs": [
    {
     "name": "stdout",
     "output_type": "stream",
     "text": [
      "X_train (80000, 28, 28, 1)\n",
      "Y_train (80000, 40)\n"
     ]
    }
   ],
   "source": [
    "X_train = x_data.reshape(80000,28,28,1)\n",
    "Y_train = to_categorical(y_data, num_classes=num_classes)\n",
    "print('X_train',X_train.shape)\n",
    "print('Y_train',Y_train.shape)"
   ]
  },
  {
   "cell_type": "code",
   "execution_count": null,
   "metadata": {
    "collapsed": true
   },
   "outputs": [],
   "source": [
    "## Normalised and splitting into train/test set\n",
    "\n",
    "X_train = X_train/255.\n",
    "X_train = X_train.astype(np.float16)\n",
    "\n",
    "indices = np.arange(len(Y_train))\n",
    "np.random.shuffle(indices)\n",
    "\n",
    "X_train = X_train[:int(.8*len(Y_train))]\n",
    "Y_train = Y_train[:int(.8*len(Y_train))]\n",
    "X_test = X_train[int(.8*len(Y_train)):]\n",
    "Y_test = Y_train[int(.8*len(Y_train)):]\n",
    "\n",
    "np.save('X_train_normalised_spliced.npy',X_train)\n",
    "np.save('Y_train_normalised_spliced.npy',Y_train)\n",
    "np.save('X_test_normalised_spliced.npy',X_test)\n",
    "np.save('Y_test_normalised_spliced.npy',Y_test)"
   ]
  },
  {
   "cell_type": "markdown",
   "metadata": {},
   "source": [
    "### Visualisation"
   ]
  },
  {
   "cell_type": "code",
   "execution_count": 11,
   "metadata": {},
   "outputs": [
    {
     "data": {
      "image/png": "[encoded data removed]",
      "text/plain": [
       "<matplotlib.figure.Figure at 0x2bd4ae4d978>"
      ]
     },
     "metadata": {},
     "output_type": "display_data"
    },
    {
     "name": "stdout",
     "output_type": "stream",
     "text": [
      "classes[y_data[idx]] bed\n",
      "y_data[idx] 19\n",
      "np.argmax(Y_train[idx]) 19\n"
     ]
    }
   ],
   "source": [
    "idx = 5000\n",
    "\n",
    "## visual of x,y_data\n",
    "show_object(x_data[idx])\n",
    "print('classes[y_data[idx]]', classes[y_data[idx]])\n",
    "print('y_data[idx]',y_data[idx])\n",
    "\n",
    "## To verify correctnessof X,Y_train\n",
    "print('np.argmax(Y_train[idx])',np.argmax(Y_train[idx]))"
   ]
  },
  {
   "cell_type": "markdown",
   "metadata": {},
   "source": [
    "# Data Generation: Features from Pre-trained Models\n",
    "    X_train ==> X_train_feats_v2\n",
    "    X_train ==> X_train_feats_v3"
   ]
  },
  {
   "cell_type": "markdown",
   "metadata": {},
   "source": [
    "### Simple Concatenate to form pseudo 3 channel image"
   ]
  },
  {
   "cell_type": "code",
   "execution_count": 15,
   "metadata": {},
   "outputs": [
    {
     "name": "stdout",
     "output_type": "stream",
     "text": [
      "X_train_3 (80000, 28, 28, 3)\n"
     ]
    }
   ],
   "source": [
    "## Generate 3 channels\n",
    "X_train_3 = np.append(np.append(X_train,X_train,axis=3), X_train, axis=3)\n",
    "print('X_train_3',X_train_3.shape)"
   ]
  },
  {
   "cell_type": "markdown",
   "metadata": {},
   "source": [
    "#### V2: Xception"
   ]
  },
  {
   "cell_type": "code",
   "execution_count": 16,
   "metadata": {},
   "outputs": [
    {
     "name": "stdout",
     "output_type": "stream",
     "text": [
      "X_train_feat_v2 (80000, 1, 1, 2048)\n",
      "Y_train (80000, 40)\n",
      "time taken to generate feats : 472.32990431785583\n",
      "time taken to save feats : 0.0\n"
     ]
    }
   ],
   "source": [
    "Archi_dir = 'v2/'\n",
    "\n",
    "## Loading the Pre-trained Xception Model\n",
    "Inp = Input(shape=(28,28,3))\n",
    "Xception_model = Xception(include_top=False, input_tensor=Inp)\n",
    "for layer in Xception_model.layers:    layer.trainable = False\n",
    "Outp = Xception_model(Inp)\n",
    "Get_Feats_v2 = Model(Inp,Outp)\n",
    "Get_Feats_v2.summary()\n",
    "\n",
    "## Generating output of Xception as features\n",
    "start_time = time.time()\n",
    "X_train_feat_v2 = Get_Feats_v2.predict(X_train_3)\n",
    "print('X_train_feat_v2',X_train_feat_v2.shape)\n",
    "print('Y_train',Y_train.shape)\n",
    "print('time taken to generate feats : {}'.format(time.time()-start_time))\n",
    "\n",
    "start_time = time.time()\n",
    "np.save(Archi_dir+'X_train_feat_v2.npy',X_train_feat_v2)\n",
    "print('time taken to save feats : {}'.format(time.time()-start_time))"
   ]
  },
  {
   "cell_type": "code",
   "execution_count": 17,
   "metadata": {},
   "outputs": [
    {
     "data": {
      "image/png": "[encoded data removed]",
      "text/plain": [
       "<matplotlib.figure.Figure at 0x2bd6eb034a8>"
      ]
     },
     "metadata": {},
     "output_type": "display_data"
    },
    {
     "name": "stdout",
     "output_type": "stream",
     "text": [
      "classes[y_data[idx]] beard\n",
      "y_data[idx] 18\n",
      "np.argmax(Y_train[idx]) 18\n"
     ]
    }
   ],
   "source": [
    "## Sanity check\n",
    "\n",
    "idx = 0; channel = 0\n",
    "show_object(X_train_3[idx,:,:,channel])\n",
    "print('classes[y_data[idx]]', classes[y_data[idx]])\n",
    "print('y_data[idx]',y_data[idx])\n",
    "print('np.argmax(Y_train[idx])',np.argmax(Y_train[idx]))"
   ]
  },
  {
   "cell_type": "code",
   "execution_count": 4,
   "metadata": {},
   "outputs": [
    {
     "name": "stdout",
     "output_type": "stream",
     "text": [
      "X_train_feat_v2 (80000, 1, 1, 2048)\n",
      "Y_train (80000, 40)\n"
     ]
    }
   ],
   "source": [
    "## Load\n",
    "X_train_feat_v2 = np.load(Archi_dir+'X_train_feat_v2.npy')\n",
    "Y_train = np.load('Y_train.npy')\n",
    "\n",
    "print('X_train_feat_v2',X_train_feat_v2.shape)\n",
    "print('Y_train',Y_train.shape)"
   ]
  },
  {
   "cell_type": "markdown",
   "metadata": {},
   "source": [
    "#### V3:MobileNet"
   ]
  },
  {
   "cell_type": "code",
   "execution_count": null,
   "metadata": {
    "collapsed": true
   },
   "outputs": [],
   "source": [
    "Archi_dir = 'v3/'\n",
    "\n",
    "Inp = Input(shape=(28,28,3))\n",
    "Mobilenet_model = Mobilenet(include_top=False, input_tensor=Inp)\n",
    "for layer in Mobilenet_model.layers:    layer.trainable = False\n",
    "Outp = Mobilenet_model(Inp)\n",
    "Get_Feats_v3 = Model(Inp,Outp)\n",
    "Get_Feats_v3.summary()\n",
    "\n",
    "start_time = time.time()\n",
    "X_train_feat_v3 = Get_Feats_v3.predict(X_train_3)\n",
    "print('X_train_feat_v3',X_train_feat_v3.shape)\n",
    "print('Y_train',Y_train.shape)\n",
    "print('time taken to generate feats : {}'.format(time.time()-start_time))\n",
    "\n",
    "start_time = time.time()\n",
    "# np.save(Archi_dir+'X_train_feat_v3.npy',X_train_feat_v3)\n",
    "print('time taken to save feats : {}'.format(time.time()-start_time))"
   ]
  }
 ],
 "metadata": {
  "kernelspec": {
   "display_name": "Python 3",
   "language": "python",
   "name": "python3"
  },
  "language_info": {
   "codemirror_mode": {
    "name": "ipython",
    "version": 3
   },
   "file_extension": ".py",
   "mimetype": "text/x-python",
   "name": "python",
   "nbconvert_exporter": "python",
   "pygments_lexer": "ipython3",
   "version": "3.5.3"
  }
 },
 "nbformat": 4,
 "nbformat_minor": 2
}
